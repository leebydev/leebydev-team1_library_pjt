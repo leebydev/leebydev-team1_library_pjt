{
 "cells": [
  {
   "cell_type": "code",
   "execution_count": 1,
   "id": "033015a0",
   "metadata": {},
   "outputs": [
    {
     "name": "stdout",
     "output_type": "stream",
     "text": [
      "c:\\jupyter_home\\통합프로젝트\\library\\code\n"
     ]
    }
   ],
   "source": [
    "import os\n",
    "print(os.getcwd())\n",
    "\n",
    "import warnings\n",
    "warnings.filterwarnings(action='ignore')"
   ]
  },
  {
   "cell_type": "code",
   "execution_count": 2,
   "id": "4a6f87f8",
   "metadata": {},
   "outputs": [],
   "source": [
    "import pandas as pd\n",
    "import numpy as np\n",
    "import matplotlib.pyplot as plt\n",
    "import random\n",
    "from sklearn.manifold import TSNE\n",
    "from gensim.test.utils import common_texts\n",
    "from gensim.models.doc2vec import Doc2Vec, TaggedDocument\n",
    "from sklearn.metrics.pairwise import cosine_similarity"
   ]
  },
  {
   "cell_type": "code",
   "execution_count": 3,
   "id": "a999f1e4",
   "metadata": {
    "collapsed": true
   },
   "outputs": [
    {
     "data": {
      "text/html": [
       "<div>\n",
       "<style scoped>\n",
       "    .dataframe tbody tr th:only-of-type {\n",
       "        vertical-align: middle;\n",
       "    }\n",
       "\n",
       "    .dataframe tbody tr th {\n",
       "        vertical-align: top;\n",
       "    }\n",
       "\n",
       "    .dataframe thead th {\n",
       "        text-align: right;\n",
       "    }\n",
       "</style>\n",
       "<table border=\"1\" class=\"dataframe\">\n",
       "  <thead>\n",
       "    <tr style=\"text-align: right;\">\n",
       "      <th></th>\n",
       "      <th>user_key</th>\n",
       "      <th>loan_date</th>\n",
       "      <th>return_date</th>\n",
       "      <th>isbn13</th>\n",
       "      <th>title</th>\n",
       "      <th>author</th>\n",
       "      <th>publisher</th>\n",
       "      <th>add_code</th>\n",
       "      <th>img_url</th>\n",
       "      <th>kdc_class_no</th>\n",
       "      <th>sex</th>\n",
       "      <th>age</th>\n",
       "      <th>description</th>\n",
       "    </tr>\n",
       "  </thead>\n",
       "  <tbody>\n",
       "    <tr>\n",
       "      <th>0</th>\n",
       "      <td>4208654315914400000</td>\n",
       "      <td>2022-03-31 12:00:00.0</td>\n",
       "      <td>2022-04-18 12:00:00.0</td>\n",
       "      <td>9788932105635</td>\n",
       "      <td>주님의 기도:해설</td>\n",
       "      <td>로마노 구아르디니 저;이석은 역</td>\n",
       "      <td>가톨릭출판사</td>\n",
       "      <td>3230.0</td>\n",
       "      <td>http://image.aladin.co.kr/product/29/95/cover/...</td>\n",
       "      <td>233</td>\n",
       "      <td>0.0</td>\n",
       "      <td>0.0</td>\n",
       "      <td>별다른 의미 없이 기도를 반복하는 신자들을 위해 영혼들에게 깨달음을 주는 기도해설서...</td>\n",
       "    </tr>\n",
       "    <tr>\n",
       "      <th>1</th>\n",
       "      <td>4208654315914400000</td>\n",
       "      <td>2022-03-31 12:00:00.0</td>\n",
       "      <td>2022-04-18 12:00:00.0</td>\n",
       "      <td>9788932105567</td>\n",
       "      <td>생명의 옹달샘</td>\n",
       "      <td>[가톨릭출판사]편집부 엮음</td>\n",
       "      <td>가톨릭출판사</td>\n",
       "      <td>4230.0</td>\n",
       "      <td>https://bookthumb-phinf.pstatic.net/cover/014/...</td>\n",
       "      <td>234</td>\n",
       "      <td>0.0</td>\n",
       "      <td>0.0</td>\n",
       "      <td>하느님이 주신 주옥 같은 말씀들을 주제별로 엮은 책이다. 하느님의 말씀을 모은 작은...</td>\n",
       "    </tr>\n",
       "    <tr>\n",
       "      <th>2</th>\n",
       "      <td>1748935651519910000000000</td>\n",
       "      <td>2022-04-19 12:00:00.0</td>\n",
       "      <td>2022-04-22 12:00:00.0</td>\n",
       "      <td>9788931418828</td>\n",
       "      <td>전자상거래관리사 2급 필기 마스터바이블:전자상거래관련법규</td>\n",
       "      <td>배근성;영진정보연구소 공저</td>\n",
       "      <td>영진닷컴</td>\n",
       "      <td>13000.0</td>\n",
       "      <td>http://image.aladin.co.kr/product/30/30/cover/...</td>\n",
       "      <td>326</td>\n",
       "      <td>0.0</td>\n",
       "      <td>0.0</td>\n",
       "      <td>정보통신부와 산업자원부가 공동으로 주관하고 대한상공회의소에서 시행하는 국가공인 시험...</td>\n",
       "    </tr>\n",
       "    <tr>\n",
       "      <th>3</th>\n",
       "      <td>4208654315914400000</td>\n",
       "      <td>2022-03-31 12:00:00.0</td>\n",
       "      <td>2022-04-18 12:00:00.0</td>\n",
       "      <td>9788988800980</td>\n",
       "      <td>이민 가서 뭐해 먹고 살지:뉴질랜드 편</td>\n",
       "      <td>진양경 씀</td>\n",
       "      <td>무한</td>\n",
       "      <td>3810.0</td>\n",
       "      <td>http://image.aladin.co.kr/product/30/25/cover/...</td>\n",
       "      <td>322</td>\n",
       "      <td>0.0</td>\n",
       "      <td>0.0</td>\n",
       "      <td>뉴질랜드에서 할만한 직업을 소개한 책. 뉴질랜드 현지의 직업과 그와 관련된 세부적인...</td>\n",
       "    </tr>\n",
       "    <tr>\n",
       "      <th>4</th>\n",
       "      <td>573748883482940000000000</td>\n",
       "      <td>2022-04-19 12:00:00.0</td>\n",
       "      <td>2022-04-28 12:00:00.0</td>\n",
       "      <td>9788931418613</td>\n",
       "      <td>(Bingo!)컴퓨터활용능력 2급 필기:컴퓨터 일반</td>\n",
       "      <td>김옥남;영진정보연구소 공저</td>\n",
       "      <td>영진닷컴</td>\n",
       "      <td>13000.0</td>\n",
       "      <td>http://image.aladin.co.kr/product/30/28/cover/...</td>\n",
       "      <td>4</td>\n",
       "      <td>0.0</td>\n",
       "      <td>0.0</td>\n",
       "      <td>독학으로 충분히 시험에 대비할 수 있는 폭넓은 이론과 다양한 문제와, 1회부터 현 ...</td>\n",
       "    </tr>\n",
       "  </tbody>\n",
       "</table>\n",
       "</div>"
      ],
      "text/plain": [
       "                    user_key              loan_date            return_date  \\\n",
       "0        4208654315914400000  2022-03-31 12:00:00.0  2022-04-18 12:00:00.0   \n",
       "1        4208654315914400000  2022-03-31 12:00:00.0  2022-04-18 12:00:00.0   \n",
       "2  1748935651519910000000000  2022-04-19 12:00:00.0  2022-04-22 12:00:00.0   \n",
       "3        4208654315914400000  2022-03-31 12:00:00.0  2022-04-18 12:00:00.0   \n",
       "4   573748883482940000000000  2022-04-19 12:00:00.0  2022-04-28 12:00:00.0   \n",
       "\n",
       "          isbn13                            title             author  \\\n",
       "0  9788932105635                        주님의 기도:해설  로마노 구아르디니 저;이석은 역   \n",
       "1  9788932105567                          생명의 옹달샘     [가톨릭출판사]편집부 엮음   \n",
       "2  9788931418828  전자상거래관리사 2급 필기 마스터바이블:전자상거래관련법규     배근성;영진정보연구소 공저   \n",
       "3  9788988800980            이민 가서 뭐해 먹고 살지:뉴질랜드 편              진양경 씀   \n",
       "4  9788931418613     (Bingo!)컴퓨터활용능력 2급 필기:컴퓨터 일반     김옥남;영진정보연구소 공저   \n",
       "\n",
       "  publisher  add_code                                            img_url  \\\n",
       "0    가톨릭출판사    3230.0  http://image.aladin.co.kr/product/29/95/cover/...   \n",
       "1    가톨릭출판사    4230.0  https://bookthumb-phinf.pstatic.net/cover/014/...   \n",
       "2      영진닷컴   13000.0  http://image.aladin.co.kr/product/30/30/cover/...   \n",
       "3        무한    3810.0  http://image.aladin.co.kr/product/30/25/cover/...   \n",
       "4      영진닷컴   13000.0  http://image.aladin.co.kr/product/30/28/cover/...   \n",
       "\n",
       "   kdc_class_no  sex  age                                        description  \n",
       "0           233  0.0  0.0  별다른 의미 없이 기도를 반복하는 신자들을 위해 영혼들에게 깨달음을 주는 기도해설서...  \n",
       "1           234  0.0  0.0  하느님이 주신 주옥 같은 말씀들을 주제별로 엮은 책이다. 하느님의 말씀을 모은 작은...  \n",
       "2           326  0.0  0.0  정보통신부와 산업자원부가 공동으로 주관하고 대한상공회의소에서 시행하는 국가공인 시험...  \n",
       "3           322  0.0  0.0  뉴질랜드에서 할만한 직업을 소개한 책. 뉴질랜드 현지의 직업과 그와 관련된 세부적인...  \n",
       "4             4  0.0  0.0  독학으로 충분히 시험에 대비할 수 있는 폭넓은 이론과 다양한 문제와, 1회부터 현 ...  "
      ]
     },
     "metadata": {},
     "output_type": "display_data"
    },
    {
     "name": "stdout",
     "output_type": "stream",
     "text": [
      "<class 'pandas.core.frame.DataFrame'>\n",
      "RangeIndex: 72088 entries, 0 to 72087\n",
      "Data columns (total 13 columns):\n",
      " #   Column        Non-Null Count  Dtype  \n",
      "---  ------        --------------  -----  \n",
      " 0   user_key      72088 non-null  object \n",
      " 1   loan_date     72088 non-null  object \n",
      " 2   return_date   72088 non-null  object \n",
      " 3   isbn13        72088 non-null  int64  \n",
      " 4   title         72088 non-null  object \n",
      " 5   author        72088 non-null  object \n",
      " 6   publisher     72088 non-null  object \n",
      " 7   add_code      72088 non-null  float64\n",
      " 8   img_url       72088 non-null  object \n",
      " 9   kdc_class_no  72088 non-null  int64  \n",
      " 10  sex           72088 non-null  float64\n",
      " 11  age           72088 non-null  float64\n",
      " 12  description   72088 non-null  object \n",
      "dtypes: float64(3), int64(2), object(8)\n",
      "memory usage: 7.1+ MB\n"
     ]
    }
   ],
   "source": [
    "df = pd.read_csv('../data2/library_dataset_loan_description.csv')\n",
    "display(df.head())\n",
    "df.info()"
   ]
  },
  {
   "cell_type": "code",
   "execution_count": 4,
   "id": "145d893d",
   "metadata": {},
   "outputs": [],
   "source": [
    "df = df[['user_key','title','kdc_class_no','description']]"
   ]
  },
  {
   "cell_type": "code",
   "execution_count": 21,
   "id": "eb4e03ed",
   "metadata": {},
   "outputs": [],
   "source": [
    "# doc2vec model 학습 및 저장\n",
    "def doc2vec_models(tagged_data, tok,\n",
    "                   vector_size=128, window=3, epochs=40, min_count=0, workers=4):\n",
    "    model = Doc2Vec(tagged_data, vector_size=vector_size, window=window, epochs=epochs, min_count=min_count, workers=workers)\n",
    "    model.save(f'../models/{tok}_model.doc2vec')"
   ]
  },
  {
   "cell_type": "code",
   "execution_count": 7,
   "id": "77c1216c",
   "metadata": {},
   "outputs": [],
   "source": [
    "# 데이터 전처리\n",
    "def preprocessing_data(df):\n",
    "    df['title_description'] = df['title'] + \" \" + df['description']\n",
    "    df.drop(['title', 'description'], axis=1, inplace=True)\n",
    "    return df"
   ]
  },
  {
   "cell_type": "code",
   "execution_count": 8,
   "id": "ca8848a4",
   "metadata": {},
   "outputs": [],
   "source": [
    "# doc2vec에서 사용할 수 있는 데이터 생성\n",
    "def doc2vec_data(df, column, t_document=False):\n",
    "    df_doc = []\n",
    "    for tag, doc in zip(df.index, df[column]):\n",
    "        doc = doc.split(\" \")\n",
    "        df_doc.append(([tag], doc))\n",
    "    if t_document:\n",
    "        df = [TaggedDocument(words=text, tags=tag) for tag, text in df_doc]\n",
    "        return df\n",
    "    else:\n",
    "        return df_doc"
   ]
  },
  {
   "cell_type": "code",
   "execution_count": 43,
   "id": "73fe5b68",
   "metadata": {},
   "outputs": [],
   "source": [
    "# 추천 결과 반환\n",
    "def recommened_contents(user, df_doc, model):\n",
    "    scores = []\n",
    "    \n",
    "    for tags, text in df_doc:\n",
    "        trained_doc_vec = model.docvecs[tags[0]]\n",
    "        scores.append(cosine_similarity(user.reshape(-1, 128), trained_doc_vec.reshape(-1, 128)))\n",
    "        \n",
    "    scores = np.array(scores).reshape(-1)\n",
    "    scores = np.argsort(-scores)[:2]\n",
    "    \n",
    "    return df.loc[scores, :]"
   ]
  },
  {
   "cell_type": "code",
   "execution_count": 37,
   "id": "ab88b799",
   "metadata": {},
   "outputs": [],
   "source": [
    "# user embedding 생성\n",
    "def user_embedding(index_list, df_doc, model):\n",
    "    user=[]\n",
    "    user_embedding=[]\n",
    "    for i in index_list:\n",
    "        user.append(df_doc[i][0][0])\n",
    "    for i in user:\n",
    "        user_embedding.append(model.docvecs[i])\n",
    "    user_embedding = np.array(user_embedding)\n",
    "    user=np.mean(user_embedding, axis=0)\n",
    "    return user"
   ]
  },
  {
   "cell_type": "code",
   "execution_count": 35,
   "id": "9f5b6547",
   "metadata": {},
   "outputs": [],
   "source": [
    "# 사용자 히스토리 출력\n",
    "def view_user_history(df):\n",
    "    print(df[['kdc_class_no', 'title_description']])"
   ]
  },
  {
   "cell_type": "code",
   "execution_count": 12,
   "id": "5256a194",
   "metadata": {},
   "outputs": [],
   "source": [
    "df = preprocessing_data(df)"
   ]
  },
  {
   "cell_type": "code",
   "execution_count": 13,
   "id": "00dc189f",
   "metadata": {},
   "outputs": [
    {
     "data": {
      "text/html": [
       "<div>\n",
       "<style scoped>\n",
       "    .dataframe tbody tr th:only-of-type {\n",
       "        vertical-align: middle;\n",
       "    }\n",
       "\n",
       "    .dataframe tbody tr th {\n",
       "        vertical-align: top;\n",
       "    }\n",
       "\n",
       "    .dataframe thead th {\n",
       "        text-align: right;\n",
       "    }\n",
       "</style>\n",
       "<table border=\"1\" class=\"dataframe\">\n",
       "  <thead>\n",
       "    <tr style=\"text-align: right;\">\n",
       "      <th></th>\n",
       "      <th>user_key</th>\n",
       "      <th>kdc_class_no</th>\n",
       "      <th>title_description</th>\n",
       "    </tr>\n",
       "  </thead>\n",
       "  <tbody>\n",
       "    <tr>\n",
       "      <th>0</th>\n",
       "      <td>4208654315914400000</td>\n",
       "      <td>233</td>\n",
       "      <td>주님의 기도:해설 별다른 의미 없이 기도를 반복하는 신자들을 위해 영혼들에게 깨달음...</td>\n",
       "    </tr>\n",
       "    <tr>\n",
       "      <th>1</th>\n",
       "      <td>4208654315914400000</td>\n",
       "      <td>234</td>\n",
       "      <td>생명의 옹달샘 하느님이 주신 주옥 같은 말씀들을 주제별로 엮은 책이다. 하느님의 말...</td>\n",
       "    </tr>\n",
       "    <tr>\n",
       "      <th>2</th>\n",
       "      <td>1748935651519910000000000</td>\n",
       "      <td>326</td>\n",
       "      <td>전자상거래관리사 2급 필기 마스터바이블:전자상거래관련법규 정보통신부와 산업자원부가 ...</td>\n",
       "    </tr>\n",
       "    <tr>\n",
       "      <th>3</th>\n",
       "      <td>4208654315914400000</td>\n",
       "      <td>322</td>\n",
       "      <td>이민 가서 뭐해 먹고 살지:뉴질랜드 편 뉴질랜드에서 할만한 직업을 소개한 책. 뉴질...</td>\n",
       "    </tr>\n",
       "    <tr>\n",
       "      <th>4</th>\n",
       "      <td>573748883482940000000000</td>\n",
       "      <td>4</td>\n",
       "      <td>(Bingo!)컴퓨터활용능력 2급 필기:컴퓨터 일반 독학으로 충분히 시험에 대비할 ...</td>\n",
       "    </tr>\n",
       "  </tbody>\n",
       "</table>\n",
       "</div>"
      ],
      "text/plain": [
       "                    user_key  kdc_class_no  \\\n",
       "0        4208654315914400000           233   \n",
       "1        4208654315914400000           234   \n",
       "2  1748935651519910000000000           326   \n",
       "3        4208654315914400000           322   \n",
       "4   573748883482940000000000             4   \n",
       "\n",
       "                                   title_description  \n",
       "0  주님의 기도:해설 별다른 의미 없이 기도를 반복하는 신자들을 위해 영혼들에게 깨달음...  \n",
       "1  생명의 옹달샘 하느님이 주신 주옥 같은 말씀들을 주제별로 엮은 책이다. 하느님의 말...  \n",
       "2  전자상거래관리사 2급 필기 마스터바이블:전자상거래관련법규 정보통신부와 산업자원부가 ...  \n",
       "3  이민 가서 뭐해 먹고 살지:뉴질랜드 편 뉴질랜드에서 할만한 직업을 소개한 책. 뉴질...  \n",
       "4  (Bingo!)컴퓨터활용능력 2급 필기:컴퓨터 일반 독학으로 충분히 시험에 대비할 ...  "
      ]
     },
     "execution_count": 13,
     "metadata": {},
     "output_type": "execute_result"
    }
   ],
   "source": [
    "df.head()"
   ]
  },
  {
   "cell_type": "code",
   "execution_count": 3,
   "id": "67089078",
   "metadata": {},
   "outputs": [],
   "source": [
    "df = pd.read_csv('../data2/description_okt.csv')"
   ]
  },
  {
   "cell_type": "code",
   "execution_count": 4,
   "id": "4a001df2",
   "metadata": {},
   "outputs": [
    {
     "data": {
      "text/html": [
       "<div>\n",
       "<style scoped>\n",
       "    .dataframe tbody tr th:only-of-type {\n",
       "        vertical-align: middle;\n",
       "    }\n",
       "\n",
       "    .dataframe tbody tr th {\n",
       "        vertical-align: top;\n",
       "    }\n",
       "\n",
       "    .dataframe thead th {\n",
       "        text-align: right;\n",
       "    }\n",
       "</style>\n",
       "<table border=\"1\" class=\"dataframe\">\n",
       "  <thead>\n",
       "    <tr style=\"text-align: right;\">\n",
       "      <th></th>\n",
       "      <th>user_key</th>\n",
       "      <th>kdc_class_no</th>\n",
       "      <th>title_description</th>\n",
       "      <th>okt_nouns</th>\n",
       "    </tr>\n",
       "  </thead>\n",
       "  <tbody>\n",
       "    <tr>\n",
       "      <th>0</th>\n",
       "      <td>4208654315914400000</td>\n",
       "      <td>233</td>\n",
       "      <td>주님의 기도:해설 별다른 의미 없이 기도를 반복하는 신자들을 위해 영혼들에게 깨달음...</td>\n",
       "      <td>['주님', '기도', '해설', '의미', '기도', '반복', '신자', '위해...</td>\n",
       "    </tr>\n",
       "    <tr>\n",
       "      <th>1</th>\n",
       "      <td>4208654315914400000</td>\n",
       "      <td>234</td>\n",
       "      <td>생명의 옹달샘 하느님이 주신 주옥 같은 말씀들을 주제별로 엮은 책이다. 하느님의 말...</td>\n",
       "      <td>['생명', '옹달샘', '하느님', '주신', '주옥', '말씀', '주제', '...</td>\n",
       "    </tr>\n",
       "    <tr>\n",
       "      <th>2</th>\n",
       "      <td>1748935651519910000000000</td>\n",
       "      <td>326</td>\n",
       "      <td>전자상거래관리사 2급 필기 마스터바이블:전자상거래관련법규 정보통신부와 산업자원부가 ...</td>\n",
       "      <td>['전자상거래', '관리사', '급', '필기', '마스터', '바이블', '전자상...</td>\n",
       "    </tr>\n",
       "    <tr>\n",
       "      <th>3</th>\n",
       "      <td>4208654315914400000</td>\n",
       "      <td>322</td>\n",
       "      <td>이민 가서 뭐해 먹고 살지:뉴질랜드 편 뉴질랜드에서 할만한 직업을 소개한 책. 뉴질...</td>\n",
       "      <td>['이민', '뭐', '살', '뉴질랜드', '편', '뉴질랜드', '직업', '소...</td>\n",
       "    </tr>\n",
       "    <tr>\n",
       "      <th>4</th>\n",
       "      <td>573748883482940000000000</td>\n",
       "      <td>4</td>\n",
       "      <td>(Bingo!)컴퓨터활용능력 2급 필기:컴퓨터 일반 독학으로 충분히 시험에 대비할 ...</td>\n",
       "      <td>['컴퓨터', '활용', '능력', '급', '필기', '컴퓨터', '일반', '독...</td>\n",
       "    </tr>\n",
       "  </tbody>\n",
       "</table>\n",
       "</div>"
      ],
      "text/plain": [
       "                    user_key  kdc_class_no  \\\n",
       "0        4208654315914400000           233   \n",
       "1        4208654315914400000           234   \n",
       "2  1748935651519910000000000           326   \n",
       "3        4208654315914400000           322   \n",
       "4   573748883482940000000000             4   \n",
       "\n",
       "                                   title_description  \\\n",
       "0  주님의 기도:해설 별다른 의미 없이 기도를 반복하는 신자들을 위해 영혼들에게 깨달음...   \n",
       "1  생명의 옹달샘 하느님이 주신 주옥 같은 말씀들을 주제별로 엮은 책이다. 하느님의 말...   \n",
       "2  전자상거래관리사 2급 필기 마스터바이블:전자상거래관련법규 정보통신부와 산업자원부가 ...   \n",
       "3  이민 가서 뭐해 먹고 살지:뉴질랜드 편 뉴질랜드에서 할만한 직업을 소개한 책. 뉴질...   \n",
       "4  (Bingo!)컴퓨터활용능력 2급 필기:컴퓨터 일반 독학으로 충분히 시험에 대비할 ...   \n",
       "\n",
       "                                           okt_nouns  \n",
       "0  ['주님', '기도', '해설', '의미', '기도', '반복', '신자', '위해...  \n",
       "1  ['생명', '옹달샘', '하느님', '주신', '주옥', '말씀', '주제', '...  \n",
       "2  ['전자상거래', '관리사', '급', '필기', '마스터', '바이블', '전자상...  \n",
       "3  ['이민', '뭐', '살', '뉴질랜드', '편', '뉴질랜드', '직업', '소...  \n",
       "4  ['컴퓨터', '활용', '능력', '급', '필기', '컴퓨터', '일반', '독...  "
      ]
     },
     "execution_count": 4,
     "metadata": {},
     "output_type": "execute_result"
    }
   ],
   "source": [
    "df = df[['user_key','kdc_class_no','title_description','okt_nouns']]\n",
    "df.head()"
   ]
  },
  {
   "cell_type": "code",
   "execution_count": 12,
   "id": "4a1395a3",
   "metadata": {},
   "outputs": [],
   "source": [
    "df_doc_title_description_tag = doc2vec_data(df, 'title_description', t_document=True)\n",
    "df_doc_title_description = doc2vec_data(df, 'title_description')\n",
    "df_doc_tok_tag = doc2vec_data(df, 'okt_nouns', t_document=True)\n",
    "df_doc_tok = doc2vec_data(df, 'okt_nouns')"
   ]
  },
  {
   "cell_type": "markdown",
   "id": "3f13aa7d",
   "metadata": {},
   "source": [
    "### make doc2vec models\n"
   ]
  },
  {
   "cell_type": "code",
   "execution_count": 22,
   "id": "8c6a4103",
   "metadata": {},
   "outputs": [],
   "source": [
    "doc2vec_models(df_doc_title_description_tag, tok=False)"
   ]
  },
  {
   "cell_type": "code",
   "execution_count": 23,
   "id": "5151fe2f",
   "metadata": {},
   "outputs": [],
   "source": [
    "doc2vec_models(df_doc_tok_tag, tok=True)"
   ]
  },
  {
   "cell_type": "markdown",
   "id": "c230f792",
   "metadata": {},
   "source": [
    "### load doc2vec models"
   ]
  },
  {
   "cell_type": "code",
   "execution_count": null,
   "id": "d94b3a48",
   "metadata": {},
   "outputs": [],
   "source": [
    "def doc2vec_models(tagged_data, tok,\n",
    "                   vector_size=128, window=3, epochs=40, min_count=0, workers=4):\n",
    "    model = Doc2Vec(tagged_data, vector_size=vector_size, window=window, epochs=epochs, min_count=min_count, workers=workers)\n",
    "    model.save(f'../models/{tok}_model.doc2vec')"
   ]
  },
  {
   "cell_type": "code",
   "execution_count": 24,
   "id": "a80eac74",
   "metadata": {},
   "outputs": [],
   "source": [
    "model_title_content = Doc2Vec.load('../models/False_model.doc2vec')"
   ]
  },
  {
   "cell_type": "code",
   "execution_count": 25,
   "id": "05006afc",
   "metadata": {},
   "outputs": [],
   "source": [
    "model_tok = Doc2Vec.load('../models/True_model.doc2vec')"
   ]
  },
  {
   "cell_type": "code",
   "execution_count": 28,
   "id": "07998d89",
   "metadata": {},
   "outputs": [],
   "source": [
    "df = df[['kdc_class_no','title_description','okt_nouns']]"
   ]
  },
  {
   "cell_type": "code",
   "execution_count": 30,
   "id": "d7348687",
   "metadata": {
    "scrolled": true
   },
   "outputs": [
    {
     "data": {
      "text/html": [
       "<div>\n",
       "<style scoped>\n",
       "    .dataframe tbody tr th:only-of-type {\n",
       "        vertical-align: middle;\n",
       "    }\n",
       "\n",
       "    .dataframe tbody tr th {\n",
       "        vertical-align: top;\n",
       "    }\n",
       "\n",
       "    .dataframe thead th {\n",
       "        text-align: right;\n",
       "    }\n",
       "</style>\n",
       "<table border=\"1\" class=\"dataframe\">\n",
       "  <thead>\n",
       "    <tr style=\"text-align: right;\">\n",
       "      <th></th>\n",
       "      <th>kdc_class_no</th>\n",
       "      <th>title_description</th>\n",
       "      <th>okt_nouns</th>\n",
       "    </tr>\n",
       "  </thead>\n",
       "  <tbody>\n",
       "    <tr>\n",
       "      <th>0</th>\n",
       "      <td>233</td>\n",
       "      <td>주님의 기도:해설 별다른 의미 없이 기도를 반복하는 신자들을 위해 영혼들에게 깨달음...</td>\n",
       "      <td>['주님', '기도', '해설', '의미', '기도', '반복', '신자', '위해...</td>\n",
       "    </tr>\n",
       "    <tr>\n",
       "      <th>1</th>\n",
       "      <td>234</td>\n",
       "      <td>생명의 옹달샘 하느님이 주신 주옥 같은 말씀들을 주제별로 엮은 책이다. 하느님의 말...</td>\n",
       "      <td>['생명', '옹달샘', '하느님', '주신', '주옥', '말씀', '주제', '...</td>\n",
       "    </tr>\n",
       "    <tr>\n",
       "      <th>2</th>\n",
       "      <td>326</td>\n",
       "      <td>전자상거래관리사 2급 필기 마스터바이블:전자상거래관련법규 정보통신부와 산업자원부가 ...</td>\n",
       "      <td>['전자상거래', '관리사', '급', '필기', '마스터', '바이블', '전자상...</td>\n",
       "    </tr>\n",
       "    <tr>\n",
       "      <th>3</th>\n",
       "      <td>322</td>\n",
       "      <td>이민 가서 뭐해 먹고 살지:뉴질랜드 편 뉴질랜드에서 할만한 직업을 소개한 책. 뉴질...</td>\n",
       "      <td>['이민', '뭐', '살', '뉴질랜드', '편', '뉴질랜드', '직업', '소...</td>\n",
       "    </tr>\n",
       "    <tr>\n",
       "      <th>4</th>\n",
       "      <td>4</td>\n",
       "      <td>(Bingo!)컴퓨터활용능력 2급 필기:컴퓨터 일반 독학으로 충분히 시험에 대비할 ...</td>\n",
       "      <td>['컴퓨터', '활용', '능력', '급', '필기', '컴퓨터', '일반', '독...</td>\n",
       "    </tr>\n",
       "  </tbody>\n",
       "</table>\n",
       "</div>"
      ],
      "text/plain": [
       "   kdc_class_no                                  title_description  \\\n",
       "0           233  주님의 기도:해설 별다른 의미 없이 기도를 반복하는 신자들을 위해 영혼들에게 깨달음...   \n",
       "1           234  생명의 옹달샘 하느님이 주신 주옥 같은 말씀들을 주제별로 엮은 책이다. 하느님의 말...   \n",
       "2           326  전자상거래관리사 2급 필기 마스터바이블:전자상거래관련법규 정보통신부와 산업자원부가 ...   \n",
       "3           322  이민 가서 뭐해 먹고 살지:뉴질랜드 편 뉴질랜드에서 할만한 직업을 소개한 책. 뉴질...   \n",
       "4             4  (Bingo!)컴퓨터활용능력 2급 필기:컴퓨터 일반 독학으로 충분히 시험에 대비할 ...   \n",
       "\n",
       "                                           okt_nouns  \n",
       "0  ['주님', '기도', '해설', '의미', '기도', '반복', '신자', '위해...  \n",
       "1  ['생명', '옹달샘', '하느님', '주신', '주옥', '말씀', '주제', '...  \n",
       "2  ['전자상거래', '관리사', '급', '필기', '마스터', '바이블', '전자상...  \n",
       "3  ['이민', '뭐', '살', '뉴질랜드', '편', '뉴질랜드', '직업', '소...  \n",
       "4  ['컴퓨터', '활용', '능력', '급', '필기', '컴퓨터', '일반', '독...  "
      ]
     },
     "execution_count": 30,
     "metadata": {},
     "output_type": "execute_result"
    }
   ],
   "source": [
    "df.head()"
   ]
  },
  {
   "cell_type": "code",
   "execution_count": 32,
   "id": "ef6c1ddc",
   "metadata": {},
   "outputs": [
    {
     "name": "stdout",
     "output_type": "stream",
     "text": [
      "<class 'pandas.core.frame.DataFrame'>\n",
      "RangeIndex: 72088 entries, 0 to 72087\n",
      "Data columns (total 3 columns):\n",
      " #   Column             Non-Null Count  Dtype \n",
      "---  ------             --------------  ----- \n",
      " 0   kdc_class_no       72088 non-null  int64 \n",
      " 1   title_description  72088 non-null  object\n",
      " 2   okt_nouns          72088 non-null  object\n",
      "dtypes: int64(1), object(2)\n",
      "memory usage: 1.7+ MB\n"
     ]
    }
   ],
   "source": [
    "df.info()"
   ]
  },
  {
   "cell_type": "code",
   "execution_count": 47,
   "id": "22ed2133",
   "metadata": {},
   "outputs": [
    {
     "name": "stdout",
     "output_type": "stream",
     "text": [
      "       kdc_class_no                                  title_description\n",
      "12575           322  신흥시장국의 경기회복 차별화 및 정책과제 본 보고서에서는 중국ㆍ인도ㆍ브라질 등이 빠...\n",
      "48246           322  한국의 경제 성장과 정부의 역할 :경제적 지대의 추계를 중심으로 우리나라는 짧은 기...\n"
     ]
    }
   ],
   "source": [
    "# 사용자 히스토리\n",
    "user_kdc_322 = df.loc[random.sample(df.loc[df.kdc_class_no == 322, :].index.values.tolist(), 2), :]  \n",
    "view_user_history(user_kdc_322)"
   ]
  },
  {
   "cell_type": "code",
   "execution_count": 48,
   "id": "02dc80ee",
   "metadata": {},
   "outputs": [],
   "source": [
    "# user embedding\n",
    "user_1 = user_embedding(user_kdc_322.index.values.tolist(), df_doc_tok, model_tok)"
   ]
  },
  {
   "cell_type": "code",
   "execution_count": 49,
   "id": "d7833687",
   "metadata": {},
   "outputs": [],
   "source": [
    "# 책 추천\n",
    "result = recommened_contents(user_1, df_doc_tok, model_tok)"
   ]
  },
  {
   "cell_type": "code",
   "execution_count": 50,
   "id": "04204cac",
   "metadata": {},
   "outputs": [
    {
     "data": {
      "text/html": [
       "<div>\n",
       "<style scoped>\n",
       "    .dataframe tbody tr th:only-of-type {\n",
       "        vertical-align: middle;\n",
       "    }\n",
       "\n",
       "    .dataframe tbody tr th {\n",
       "        vertical-align: top;\n",
       "    }\n",
       "\n",
       "    .dataframe thead th {\n",
       "        text-align: right;\n",
       "    }\n",
       "</style>\n",
       "<table border=\"1\" class=\"dataframe\">\n",
       "  <thead>\n",
       "    <tr style=\"text-align: right;\">\n",
       "      <th></th>\n",
       "      <th>kdc_class_no</th>\n",
       "      <th>title_description</th>\n",
       "      <th>okt_nouns</th>\n",
       "    </tr>\n",
       "  </thead>\n",
       "  <tbody>\n",
       "    <tr>\n",
       "      <th>12575</th>\n",
       "      <td>322</td>\n",
       "      <td>신흥시장국의 경기회복 차별화 및 정책과제 본 보고서에서는 중국ㆍ인도ㆍ브라질 등이 빠...</td>\n",
       "      <td>['신흥시장', '국', '경기', '회복', '차별', '및', '정책', '과제...</td>\n",
       "    </tr>\n",
       "    <tr>\n",
       "      <th>48246</th>\n",
       "      <td>322</td>\n",
       "      <td>한국의 경제 성장과 정부의 역할 :경제적 지대의 추계를 중심으로 우리나라는 짧은 기...</td>\n",
       "      <td>['한국', '경제', '성장', '정부', '역할', '경제', '지대', '추계...</td>\n",
       "    </tr>\n",
       "  </tbody>\n",
       "</table>\n",
       "</div>"
      ],
      "text/plain": [
       "       kdc_class_no                                  title_description  \\\n",
       "12575           322  신흥시장국의 경기회복 차별화 및 정책과제 본 보고서에서는 중국ㆍ인도ㆍ브라질 등이 빠...   \n",
       "48246           322  한국의 경제 성장과 정부의 역할 :경제적 지대의 추계를 중심으로 우리나라는 짧은 기...   \n",
       "\n",
       "                                               okt_nouns  \n",
       "12575  ['신흥시장', '국', '경기', '회복', '차별', '및', '정책', '과제...  \n",
       "48246  ['한국', '경제', '성장', '정부', '역할', '경제', '지대', '추계...  "
      ]
     },
     "execution_count": 50,
     "metadata": {},
     "output_type": "execute_result"
    }
   ],
   "source": [
    "result"
   ]
  },
  {
   "cell_type": "code",
   "execution_count": 51,
   "id": "a9b130ca",
   "metadata": {},
   "outputs": [
    {
     "data": {
      "text/html": [
       "<div>\n",
       "<style scoped>\n",
       "    .dataframe tbody tr th:only-of-type {\n",
       "        vertical-align: middle;\n",
       "    }\n",
       "\n",
       "    .dataframe tbody tr th {\n",
       "        vertical-align: top;\n",
       "    }\n",
       "\n",
       "    .dataframe thead th {\n",
       "        text-align: right;\n",
       "    }\n",
       "</style>\n",
       "<table border=\"1\" class=\"dataframe\">\n",
       "  <thead>\n",
       "    <tr style=\"text-align: right;\">\n",
       "      <th></th>\n",
       "      <th>kdc_class_no</th>\n",
       "      <th>title_description</th>\n",
       "    </tr>\n",
       "  </thead>\n",
       "  <tbody>\n",
       "    <tr>\n",
       "      <th>12575</th>\n",
       "      <td>322</td>\n",
       "      <td>신흥시장국의 경기회복 차별화 및 정책과제 본 보고서에서는 중국ㆍ인도ㆍ브라질 등이 빠...</td>\n",
       "    </tr>\n",
       "    <tr>\n",
       "      <th>48246</th>\n",
       "      <td>322</td>\n",
       "      <td>한국의 경제 성장과 정부의 역할 :경제적 지대의 추계를 중심으로 우리나라는 짧은 기...</td>\n",
       "    </tr>\n",
       "  </tbody>\n",
       "</table>\n",
       "</div>"
      ],
      "text/plain": [
       "       kdc_class_no                                  title_description\n",
       "12575           322  신흥시장국의 경기회복 차별화 및 정책과제 본 보고서에서는 중국ㆍ인도ㆍ브라질 등이 빠...\n",
       "48246           322  한국의 경제 성장과 정부의 역할 :경제적 지대의 추계를 중심으로 우리나라는 짧은 기..."
      ]
     },
     "execution_count": 51,
     "metadata": {},
     "output_type": "execute_result"
    }
   ],
   "source": [
    "pd.DataFrame(result.loc[:, ['kdc_class_no', 'title_description']])"
   ]
  },
  {
   "cell_type": "code",
   "execution_count": null,
   "id": "e85a089c",
   "metadata": {},
   "outputs": [],
   "source": []
  }
 ],
 "metadata": {
  "kernelspec": {
   "display_name": "Python [conda env:library_37] *",
   "language": "python",
   "name": "conda-env-library_37-py"
  },
  "language_info": {
   "codemirror_mode": {
    "name": "ipython",
    "version": 3
   },
   "file_extension": ".py",
   "mimetype": "text/x-python",
   "name": "python",
   "nbconvert_exporter": "python",
   "pygments_lexer": "ipython3",
   "version": "3.7.13"
  }
 },
 "nbformat": 4,
 "nbformat_minor": 5
}
