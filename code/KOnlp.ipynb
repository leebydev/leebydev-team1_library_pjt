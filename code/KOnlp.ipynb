{
 "cells": [
  {
   "cell_type": "code",
   "execution_count": 1,
   "id": "cdf5284a",
   "metadata": {},
   "outputs": [
    {
     "name": "stdout",
     "output_type": "stream",
     "text": [
      "c:\\jupyter_home\\통합프로젝트\\library\\code\n"
     ]
    }
   ],
   "source": [
    "import os\n",
    "print(os.getcwd())\n",
    "\n",
    "import warnings\n",
    "warnings.filterwarnings(action='ignore')"
   ]
  },
  {
   "cell_type": "code",
   "execution_count": 2,
   "id": "efcf8c05",
   "metadata": {},
   "outputs": [],
   "source": [
    "from konlpy.tag import Kkma\n",
    "from konlpy.utils import pprint"
   ]
  },
  {
   "cell_type": "code",
   "execution_count": 3,
   "id": "61c1c043",
   "metadata": {},
   "outputs": [],
   "source": [
    "kkma = Kkma()"
   ]
  },
  {
   "cell_type": "code",
   "execution_count": 4,
   "id": "5fc2e0da",
   "metadata": {},
   "outputs": [],
   "source": [
    "from konlpy.tag import Twitter\n",
    "tw = Twitter()"
   ]
  },
  {
   "cell_type": "code",
   "execution_count": 5,
   "id": "5dde35a9",
   "metadata": {},
   "outputs": [
    {
     "data": {
      "text/plain": [
       "[('형태소', 'Noun'),\n",
       " ('분석', 'Noun'),\n",
       " ('을', 'Josa'),\n",
       " ('해볼건데', 'Verb'),\n",
       " ('말', 'Noun'),\n",
       " ('이야', 'Josa'),\n",
       " ('.', 'Punctuation'),\n",
       " ('이', 'Determiner'),\n",
       " ('걸', 'Noun'),\n",
       " ('또', 'Noun'),\n",
       " ('하게', 'Verb'),\n",
       " ('되다니', 'Verb'),\n",
       " ('...!', 'Punctuation')]"
      ]
     },
     "execution_count": 5,
     "metadata": {},
     "output_type": "execute_result"
    }
   ],
   "source": [
    "text = '형태소 분석을 해볼건데 말이야. 이걸 또 하게 되다니...!'\n",
    "tag = tw.pos(text)\n",
    "tag"
   ]
  },
  {
   "cell_type": "code",
   "execution_count": 6,
   "id": "8b6d4042",
   "metadata": {},
   "outputs": [],
   "source": [
    "import pandas as pd"
   ]
  },
  {
   "cell_type": "code",
   "execution_count": 7,
   "id": "30d496da",
   "metadata": {},
   "outputs": [],
   "source": [
    "df = pd.read_csv('../data2/library_dataset_loan_description.csv')"
   ]
  },
  {
   "cell_type": "code",
   "execution_count": 8,
   "id": "4259b0db",
   "metadata": {},
   "outputs": [],
   "source": [
    "df = df[['user_key','title','kdc_class_no','description']]"
   ]
  },
  {
   "cell_type": "code",
   "execution_count": 9,
   "id": "26dd559e",
   "metadata": {},
   "outputs": [],
   "source": [
    "def preprocessing_data(df):\n",
    "    df['title_description'] = df['title'] + \" \" + df['description']\n",
    "    df.drop(['title', 'description'], axis=1, inplace=True)\n",
    "    return df"
   ]
  },
  {
   "cell_type": "code",
   "execution_count": 10,
   "id": "2044d325",
   "metadata": {},
   "outputs": [
    {
     "data": {
      "text/html": [
       "<div>\n",
       "<style scoped>\n",
       "    .dataframe tbody tr th:only-of-type {\n",
       "        vertical-align: middle;\n",
       "    }\n",
       "\n",
       "    .dataframe tbody tr th {\n",
       "        vertical-align: top;\n",
       "    }\n",
       "\n",
       "    .dataframe thead th {\n",
       "        text-align: right;\n",
       "    }\n",
       "</style>\n",
       "<table border=\"1\" class=\"dataframe\">\n",
       "  <thead>\n",
       "    <tr style=\"text-align: right;\">\n",
       "      <th></th>\n",
       "      <th>user_key</th>\n",
       "      <th>kdc_class_no</th>\n",
       "      <th>title_description</th>\n",
       "    </tr>\n",
       "  </thead>\n",
       "  <tbody>\n",
       "    <tr>\n",
       "      <th>0</th>\n",
       "      <td>4208654315914400000</td>\n",
       "      <td>233</td>\n",
       "      <td>주님의 기도:해설 별다른 의미 없이 기도를 반복하는 신자들을 위해 영혼들에게 깨달음...</td>\n",
       "    </tr>\n",
       "    <tr>\n",
       "      <th>1</th>\n",
       "      <td>4208654315914400000</td>\n",
       "      <td>234</td>\n",
       "      <td>생명의 옹달샘 하느님이 주신 주옥 같은 말씀들을 주제별로 엮은 책이다. 하느님의 말...</td>\n",
       "    </tr>\n",
       "    <tr>\n",
       "      <th>2</th>\n",
       "      <td>1748935651519910000000000</td>\n",
       "      <td>326</td>\n",
       "      <td>전자상거래관리사 2급 필기 마스터바이블:전자상거래관련법규 정보통신부와 산업자원부가 ...</td>\n",
       "    </tr>\n",
       "    <tr>\n",
       "      <th>3</th>\n",
       "      <td>4208654315914400000</td>\n",
       "      <td>322</td>\n",
       "      <td>이민 가서 뭐해 먹고 살지:뉴질랜드 편 뉴질랜드에서 할만한 직업을 소개한 책. 뉴질...</td>\n",
       "    </tr>\n",
       "    <tr>\n",
       "      <th>4</th>\n",
       "      <td>573748883482940000000000</td>\n",
       "      <td>4</td>\n",
       "      <td>(Bingo!)컴퓨터활용능력 2급 필기:컴퓨터 일반 독학으로 충분히 시험에 대비할 ...</td>\n",
       "    </tr>\n",
       "  </tbody>\n",
       "</table>\n",
       "</div>"
      ],
      "text/plain": [
       "                    user_key  kdc_class_no  \\\n",
       "0        4208654315914400000           233   \n",
       "1        4208654315914400000           234   \n",
       "2  1748935651519910000000000           326   \n",
       "3        4208654315914400000           322   \n",
       "4   573748883482940000000000             4   \n",
       "\n",
       "                                   title_description  \n",
       "0  주님의 기도:해설 별다른 의미 없이 기도를 반복하는 신자들을 위해 영혼들에게 깨달음...  \n",
       "1  생명의 옹달샘 하느님이 주신 주옥 같은 말씀들을 주제별로 엮은 책이다. 하느님의 말...  \n",
       "2  전자상거래관리사 2급 필기 마스터바이블:전자상거래관련법규 정보통신부와 산업자원부가 ...  \n",
       "3  이민 가서 뭐해 먹고 살지:뉴질랜드 편 뉴질랜드에서 할만한 직업을 소개한 책. 뉴질...  \n",
       "4  (Bingo!)컴퓨터활용능력 2급 필기:컴퓨터 일반 독학으로 충분히 시험에 대비할 ...  "
      ]
     },
     "metadata": {},
     "output_type": "display_data"
    }
   ],
   "source": [
    "df = preprocessing_data(df)\n",
    "display(df.head())"
   ]
  },
  {
   "cell_type": "code",
   "execution_count": 11,
   "id": "9d341bc2",
   "metadata": {},
   "outputs": [],
   "source": [
    "from konlpy.tag import Kkma\n",
    "from konlpy.utils import pprint\n",
    "from konlpy.tag import Okt"
   ]
  },
  {
   "cell_type": "code",
   "execution_count": 12,
   "id": "f0e4cf50",
   "metadata": {},
   "outputs": [],
   "source": [
    "okt = Okt()"
   ]
  },
  {
   "cell_type": "code",
   "execution_count": 13,
   "id": "99ee4881",
   "metadata": {},
   "outputs": [],
   "source": [
    "title_description = df['title_description']"
   ]
  },
  {
   "cell_type": "code",
   "execution_count": 18,
   "id": "b09c209d",
   "metadata": {},
   "outputs": [],
   "source": [
    "df['okt_tok'] = df['title_description'].apply(okt.morphs)"
   ]
  },
  {
   "cell_type": "code",
   "execution_count": 19,
   "id": "520cda45",
   "metadata": {
    "scrolled": true
   },
   "outputs": [
    {
     "data": {
      "text/html": [
       "<div>\n",
       "<style scoped>\n",
       "    .dataframe tbody tr th:only-of-type {\n",
       "        vertical-align: middle;\n",
       "    }\n",
       "\n",
       "    .dataframe tbody tr th {\n",
       "        vertical-align: top;\n",
       "    }\n",
       "\n",
       "    .dataframe thead th {\n",
       "        text-align: right;\n",
       "    }\n",
       "</style>\n",
       "<table border=\"1\" class=\"dataframe\">\n",
       "  <thead>\n",
       "    <tr style=\"text-align: right;\">\n",
       "      <th></th>\n",
       "      <th>user_key</th>\n",
       "      <th>kdc_class_no</th>\n",
       "      <th>title_description</th>\n",
       "      <th>okt_tok</th>\n",
       "    </tr>\n",
       "  </thead>\n",
       "  <tbody>\n",
       "    <tr>\n",
       "      <th>0</th>\n",
       "      <td>4208654315914400000</td>\n",
       "      <td>233</td>\n",
       "      <td>주님의 기도:해설 별다른 의미 없이 기도를 반복하는 신자들을 위해 영혼들에게 깨달음...</td>\n",
       "      <td>[주님, 의, 기도, :, 해설, 별다른, 의미, 없이, 기도, 를, 반복, 하는,...</td>\n",
       "    </tr>\n",
       "    <tr>\n",
       "      <th>1</th>\n",
       "      <td>4208654315914400000</td>\n",
       "      <td>234</td>\n",
       "      <td>생명의 옹달샘 하느님이 주신 주옥 같은 말씀들을 주제별로 엮은 책이다. 하느님의 말...</td>\n",
       "      <td>[생명, 의, 옹달샘, 하느님, 이, 주신, 주옥, 같은, 말씀, 들, 을, 주제,...</td>\n",
       "    </tr>\n",
       "    <tr>\n",
       "      <th>2</th>\n",
       "      <td>1748935651519910000000000</td>\n",
       "      <td>326</td>\n",
       "      <td>전자상거래관리사 2급 필기 마스터바이블:전자상거래관련법규 정보통신부와 산업자원부가 ...</td>\n",
       "      <td>[전자상거래, 관리사, 2, 급, 필기, 마스터, 바이블, :, 전자상거래, 관련,...</td>\n",
       "    </tr>\n",
       "    <tr>\n",
       "      <th>3</th>\n",
       "      <td>4208654315914400000</td>\n",
       "      <td>322</td>\n",
       "      <td>이민 가서 뭐해 먹고 살지:뉴질랜드 편 뉴질랜드에서 할만한 직업을 소개한 책. 뉴질...</td>\n",
       "      <td>[이민, 가서, 뭐, 해, 먹고, 살, 지, :, 뉴질랜드, 편, 뉴질랜드, 에서,...</td>\n",
       "    </tr>\n",
       "    <tr>\n",
       "      <th>4</th>\n",
       "      <td>573748883482940000000000</td>\n",
       "      <td>4</td>\n",
       "      <td>(Bingo!)컴퓨터활용능력 2급 필기:컴퓨터 일반 독학으로 충분히 시험에 대비할 ...</td>\n",
       "      <td>[(, Bingo, !), 컴퓨터, 활용, 능력, 2, 급, 필기, :, 컴퓨터, ...</td>\n",
       "    </tr>\n",
       "  </tbody>\n",
       "</table>\n",
       "</div>"
      ],
      "text/plain": [
       "                    user_key  kdc_class_no  \\\n",
       "0        4208654315914400000           233   \n",
       "1        4208654315914400000           234   \n",
       "2  1748935651519910000000000           326   \n",
       "3        4208654315914400000           322   \n",
       "4   573748883482940000000000             4   \n",
       "\n",
       "                                   title_description  \\\n",
       "0  주님의 기도:해설 별다른 의미 없이 기도를 반복하는 신자들을 위해 영혼들에게 깨달음...   \n",
       "1  생명의 옹달샘 하느님이 주신 주옥 같은 말씀들을 주제별로 엮은 책이다. 하느님의 말...   \n",
       "2  전자상거래관리사 2급 필기 마스터바이블:전자상거래관련법규 정보통신부와 산업자원부가 ...   \n",
       "3  이민 가서 뭐해 먹고 살지:뉴질랜드 편 뉴질랜드에서 할만한 직업을 소개한 책. 뉴질...   \n",
       "4  (Bingo!)컴퓨터활용능력 2급 필기:컴퓨터 일반 독학으로 충분히 시험에 대비할 ...   \n",
       "\n",
       "                                             okt_tok  \n",
       "0  [주님, 의, 기도, :, 해설, 별다른, 의미, 없이, 기도, 를, 반복, 하는,...  \n",
       "1  [생명, 의, 옹달샘, 하느님, 이, 주신, 주옥, 같은, 말씀, 들, 을, 주제,...  \n",
       "2  [전자상거래, 관리사, 2, 급, 필기, 마스터, 바이블, :, 전자상거래, 관련,...  \n",
       "3  [이민, 가서, 뭐, 해, 먹고, 살, 지, :, 뉴질랜드, 편, 뉴질랜드, 에서,...  \n",
       "4  [(, Bingo, !), 컴퓨터, 활용, 능력, 2, 급, 필기, :, 컴퓨터, ...  "
      ]
     },
     "execution_count": 19,
     "metadata": {},
     "output_type": "execute_result"
    }
   ],
   "source": [
    "df.head()"
   ]
  },
  {
   "cell_type": "code",
   "execution_count": 20,
   "id": "0691d38d",
   "metadata": {},
   "outputs": [],
   "source": [
    "df['okt_nouns'] = df['title_description'].apply(okt.nouns)"
   ]
  },
  {
   "cell_type": "code",
   "execution_count": 21,
   "id": "edfe00fc",
   "metadata": {},
   "outputs": [
    {
     "data": {
      "text/html": [
       "<div>\n",
       "<style scoped>\n",
       "    .dataframe tbody tr th:only-of-type {\n",
       "        vertical-align: middle;\n",
       "    }\n",
       "\n",
       "    .dataframe tbody tr th {\n",
       "        vertical-align: top;\n",
       "    }\n",
       "\n",
       "    .dataframe thead th {\n",
       "        text-align: right;\n",
       "    }\n",
       "</style>\n",
       "<table border=\"1\" class=\"dataframe\">\n",
       "  <thead>\n",
       "    <tr style=\"text-align: right;\">\n",
       "      <th></th>\n",
       "      <th>user_key</th>\n",
       "      <th>kdc_class_no</th>\n",
       "      <th>title_description</th>\n",
       "      <th>okt_tok</th>\n",
       "      <th>okt_nouns</th>\n",
       "    </tr>\n",
       "  </thead>\n",
       "  <tbody>\n",
       "    <tr>\n",
       "      <th>0</th>\n",
       "      <td>4208654315914400000</td>\n",
       "      <td>233</td>\n",
       "      <td>주님의 기도:해설 별다른 의미 없이 기도를 반복하는 신자들을 위해 영혼들에게 깨달음...</td>\n",
       "      <td>[주님, 의, 기도, :, 해설, 별다른, 의미, 없이, 기도, 를, 반복, 하는,...</td>\n",
       "      <td>[주님, 기도, 해설, 의미, 기도, 반복, 신자, 위해, 영혼, 깨달음, 기도, ...</td>\n",
       "    </tr>\n",
       "    <tr>\n",
       "      <th>1</th>\n",
       "      <td>4208654315914400000</td>\n",
       "      <td>234</td>\n",
       "      <td>생명의 옹달샘 하느님이 주신 주옥 같은 말씀들을 주제별로 엮은 책이다. 하느님의 말...</td>\n",
       "      <td>[생명, 의, 옹달샘, 하느님, 이, 주신, 주옥, 같은, 말씀, 들, 을, 주제,...</td>\n",
       "      <td>[생명, 옹달샘, 하느님, 주신, 주옥, 말씀, 주제, 별로, 엮, 책, 하느님, ...</td>\n",
       "    </tr>\n",
       "    <tr>\n",
       "      <th>2</th>\n",
       "      <td>1748935651519910000000000</td>\n",
       "      <td>326</td>\n",
       "      <td>전자상거래관리사 2급 필기 마스터바이블:전자상거래관련법규 정보통신부와 산업자원부가 ...</td>\n",
       "      <td>[전자상거래, 관리사, 2, 급, 필기, 마스터, 바이블, :, 전자상거래, 관련,...</td>\n",
       "      <td>[전자상거래, 관리사, 급, 필기, 마스터, 바이블, 전자상거래, 관련, 법규, 정...</td>\n",
       "    </tr>\n",
       "    <tr>\n",
       "      <th>3</th>\n",
       "      <td>4208654315914400000</td>\n",
       "      <td>322</td>\n",
       "      <td>이민 가서 뭐해 먹고 살지:뉴질랜드 편 뉴질랜드에서 할만한 직업을 소개한 책. 뉴질...</td>\n",
       "      <td>[이민, 가서, 뭐, 해, 먹고, 살, 지, :, 뉴질랜드, 편, 뉴질랜드, 에서,...</td>\n",
       "      <td>[이민, 뭐, 살, 뉴질랜드, 편, 뉴질랜드, 직업, 소개, 책, 뉴질랜드, 현지,...</td>\n",
       "    </tr>\n",
       "    <tr>\n",
       "      <th>4</th>\n",
       "      <td>573748883482940000000000</td>\n",
       "      <td>4</td>\n",
       "      <td>(Bingo!)컴퓨터활용능력 2급 필기:컴퓨터 일반 독학으로 충분히 시험에 대비할 ...</td>\n",
       "      <td>[(, Bingo, !), 컴퓨터, 활용, 능력, 2, 급, 필기, :, 컴퓨터, ...</td>\n",
       "      <td>[컴퓨터, 활용, 능력, 급, 필기, 컴퓨터, 일반, 독학, 시험, 대비, 수, 이...</td>\n",
       "    </tr>\n",
       "  </tbody>\n",
       "</table>\n",
       "</div>"
      ],
      "text/plain": [
       "                    user_key  kdc_class_no  \\\n",
       "0        4208654315914400000           233   \n",
       "1        4208654315914400000           234   \n",
       "2  1748935651519910000000000           326   \n",
       "3        4208654315914400000           322   \n",
       "4   573748883482940000000000             4   \n",
       "\n",
       "                                   title_description  \\\n",
       "0  주님의 기도:해설 별다른 의미 없이 기도를 반복하는 신자들을 위해 영혼들에게 깨달음...   \n",
       "1  생명의 옹달샘 하느님이 주신 주옥 같은 말씀들을 주제별로 엮은 책이다. 하느님의 말...   \n",
       "2  전자상거래관리사 2급 필기 마스터바이블:전자상거래관련법규 정보통신부와 산업자원부가 ...   \n",
       "3  이민 가서 뭐해 먹고 살지:뉴질랜드 편 뉴질랜드에서 할만한 직업을 소개한 책. 뉴질...   \n",
       "4  (Bingo!)컴퓨터활용능력 2급 필기:컴퓨터 일반 독학으로 충분히 시험에 대비할 ...   \n",
       "\n",
       "                                             okt_tok  \\\n",
       "0  [주님, 의, 기도, :, 해설, 별다른, 의미, 없이, 기도, 를, 반복, 하는,...   \n",
       "1  [생명, 의, 옹달샘, 하느님, 이, 주신, 주옥, 같은, 말씀, 들, 을, 주제,...   \n",
       "2  [전자상거래, 관리사, 2, 급, 필기, 마스터, 바이블, :, 전자상거래, 관련,...   \n",
       "3  [이민, 가서, 뭐, 해, 먹고, 살, 지, :, 뉴질랜드, 편, 뉴질랜드, 에서,...   \n",
       "4  [(, Bingo, !), 컴퓨터, 활용, 능력, 2, 급, 필기, :, 컴퓨터, ...   \n",
       "\n",
       "                                           okt_nouns  \n",
       "0  [주님, 기도, 해설, 의미, 기도, 반복, 신자, 위해, 영혼, 깨달음, 기도, ...  \n",
       "1  [생명, 옹달샘, 하느님, 주신, 주옥, 말씀, 주제, 별로, 엮, 책, 하느님, ...  \n",
       "2  [전자상거래, 관리사, 급, 필기, 마스터, 바이블, 전자상거래, 관련, 법규, 정...  \n",
       "3  [이민, 뭐, 살, 뉴질랜드, 편, 뉴질랜드, 직업, 소개, 책, 뉴질랜드, 현지,...  \n",
       "4  [컴퓨터, 활용, 능력, 급, 필기, 컴퓨터, 일반, 독학, 시험, 대비, 수, 이...  "
      ]
     },
     "execution_count": 21,
     "metadata": {},
     "output_type": "execute_result"
    }
   ],
   "source": [
    "df.head()"
   ]
  },
  {
   "cell_type": "code",
   "execution_count": 22,
   "id": "bdfa6785",
   "metadata": {},
   "outputs": [],
   "source": [
    "df['okt_tag'] = df['title_description'].apply(okt.pos)"
   ]
  },
  {
   "cell_type": "code",
   "execution_count": 23,
   "id": "08a91fb7",
   "metadata": {},
   "outputs": [
    {
     "data": {
      "text/html": [
       "<div>\n",
       "<style scoped>\n",
       "    .dataframe tbody tr th:only-of-type {\n",
       "        vertical-align: middle;\n",
       "    }\n",
       "\n",
       "    .dataframe tbody tr th {\n",
       "        vertical-align: top;\n",
       "    }\n",
       "\n",
       "    .dataframe thead th {\n",
       "        text-align: right;\n",
       "    }\n",
       "</style>\n",
       "<table border=\"1\" class=\"dataframe\">\n",
       "  <thead>\n",
       "    <tr style=\"text-align: right;\">\n",
       "      <th></th>\n",
       "      <th>user_key</th>\n",
       "      <th>kdc_class_no</th>\n",
       "      <th>title_description</th>\n",
       "      <th>okt_tok</th>\n",
       "      <th>okt_nouns</th>\n",
       "      <th>okt_tag</th>\n",
       "    </tr>\n",
       "  </thead>\n",
       "  <tbody>\n",
       "    <tr>\n",
       "      <th>0</th>\n",
       "      <td>4208654315914400000</td>\n",
       "      <td>233</td>\n",
       "      <td>주님의 기도:해설 별다른 의미 없이 기도를 반복하는 신자들을 위해 영혼들에게 깨달음...</td>\n",
       "      <td>[주님, 의, 기도, :, 해설, 별다른, 의미, 없이, 기도, 를, 반복, 하는,...</td>\n",
       "      <td>[주님, 기도, 해설, 의미, 기도, 반복, 신자, 위해, 영혼, 깨달음, 기도, ...</td>\n",
       "      <td>[(주님, Noun), (의, Josa), (기도, Noun), (:, Punctu...</td>\n",
       "    </tr>\n",
       "    <tr>\n",
       "      <th>1</th>\n",
       "      <td>4208654315914400000</td>\n",
       "      <td>234</td>\n",
       "      <td>생명의 옹달샘 하느님이 주신 주옥 같은 말씀들을 주제별로 엮은 책이다. 하느님의 말...</td>\n",
       "      <td>[생명, 의, 옹달샘, 하느님, 이, 주신, 주옥, 같은, 말씀, 들, 을, 주제,...</td>\n",
       "      <td>[생명, 옹달샘, 하느님, 주신, 주옥, 말씀, 주제, 별로, 엮, 책, 하느님, ...</td>\n",
       "      <td>[(생명, Noun), (의, Josa), (옹달샘, Noun), (하느님, Nou...</td>\n",
       "    </tr>\n",
       "    <tr>\n",
       "      <th>2</th>\n",
       "      <td>1748935651519910000000000</td>\n",
       "      <td>326</td>\n",
       "      <td>전자상거래관리사 2급 필기 마스터바이블:전자상거래관련법규 정보통신부와 산업자원부가 ...</td>\n",
       "      <td>[전자상거래, 관리사, 2, 급, 필기, 마스터, 바이블, :, 전자상거래, 관련,...</td>\n",
       "      <td>[전자상거래, 관리사, 급, 필기, 마스터, 바이블, 전자상거래, 관련, 법규, 정...</td>\n",
       "      <td>[(전자상거래, Noun), (관리사, Noun), (2, Number), (급, ...</td>\n",
       "    </tr>\n",
       "    <tr>\n",
       "      <th>3</th>\n",
       "      <td>4208654315914400000</td>\n",
       "      <td>322</td>\n",
       "      <td>이민 가서 뭐해 먹고 살지:뉴질랜드 편 뉴질랜드에서 할만한 직업을 소개한 책. 뉴질...</td>\n",
       "      <td>[이민, 가서, 뭐, 해, 먹고, 살, 지, :, 뉴질랜드, 편, 뉴질랜드, 에서,...</td>\n",
       "      <td>[이민, 뭐, 살, 뉴질랜드, 편, 뉴질랜드, 직업, 소개, 책, 뉴질랜드, 현지,...</td>\n",
       "      <td>[(이민, Noun), (가서, Verb), (뭐, Noun), (해, Verb),...</td>\n",
       "    </tr>\n",
       "    <tr>\n",
       "      <th>4</th>\n",
       "      <td>573748883482940000000000</td>\n",
       "      <td>4</td>\n",
       "      <td>(Bingo!)컴퓨터활용능력 2급 필기:컴퓨터 일반 독학으로 충분히 시험에 대비할 ...</td>\n",
       "      <td>[(, Bingo, !), 컴퓨터, 활용, 능력, 2, 급, 필기, :, 컴퓨터, ...</td>\n",
       "      <td>[컴퓨터, 활용, 능력, 급, 필기, 컴퓨터, 일반, 독학, 시험, 대비, 수, 이...</td>\n",
       "      <td>[((, Punctuation), (Bingo, Alpha), (!), Punctu...</td>\n",
       "    </tr>\n",
       "  </tbody>\n",
       "</table>\n",
       "</div>"
      ],
      "text/plain": [
       "                    user_key  kdc_class_no  \\\n",
       "0        4208654315914400000           233   \n",
       "1        4208654315914400000           234   \n",
       "2  1748935651519910000000000           326   \n",
       "3        4208654315914400000           322   \n",
       "4   573748883482940000000000             4   \n",
       "\n",
       "                                   title_description  \\\n",
       "0  주님의 기도:해설 별다른 의미 없이 기도를 반복하는 신자들을 위해 영혼들에게 깨달음...   \n",
       "1  생명의 옹달샘 하느님이 주신 주옥 같은 말씀들을 주제별로 엮은 책이다. 하느님의 말...   \n",
       "2  전자상거래관리사 2급 필기 마스터바이블:전자상거래관련법규 정보통신부와 산업자원부가 ...   \n",
       "3  이민 가서 뭐해 먹고 살지:뉴질랜드 편 뉴질랜드에서 할만한 직업을 소개한 책. 뉴질...   \n",
       "4  (Bingo!)컴퓨터활용능력 2급 필기:컴퓨터 일반 독학으로 충분히 시험에 대비할 ...   \n",
       "\n",
       "                                             okt_tok  \\\n",
       "0  [주님, 의, 기도, :, 해설, 별다른, 의미, 없이, 기도, 를, 반복, 하는,...   \n",
       "1  [생명, 의, 옹달샘, 하느님, 이, 주신, 주옥, 같은, 말씀, 들, 을, 주제,...   \n",
       "2  [전자상거래, 관리사, 2, 급, 필기, 마스터, 바이블, :, 전자상거래, 관련,...   \n",
       "3  [이민, 가서, 뭐, 해, 먹고, 살, 지, :, 뉴질랜드, 편, 뉴질랜드, 에서,...   \n",
       "4  [(, Bingo, !), 컴퓨터, 활용, 능력, 2, 급, 필기, :, 컴퓨터, ...   \n",
       "\n",
       "                                           okt_nouns  \\\n",
       "0  [주님, 기도, 해설, 의미, 기도, 반복, 신자, 위해, 영혼, 깨달음, 기도, ...   \n",
       "1  [생명, 옹달샘, 하느님, 주신, 주옥, 말씀, 주제, 별로, 엮, 책, 하느님, ...   \n",
       "2  [전자상거래, 관리사, 급, 필기, 마스터, 바이블, 전자상거래, 관련, 법규, 정...   \n",
       "3  [이민, 뭐, 살, 뉴질랜드, 편, 뉴질랜드, 직업, 소개, 책, 뉴질랜드, 현지,...   \n",
       "4  [컴퓨터, 활용, 능력, 급, 필기, 컴퓨터, 일반, 독학, 시험, 대비, 수, 이...   \n",
       "\n",
       "                                             okt_tag  \n",
       "0  [(주님, Noun), (의, Josa), (기도, Noun), (:, Punctu...  \n",
       "1  [(생명, Noun), (의, Josa), (옹달샘, Noun), (하느님, Nou...  \n",
       "2  [(전자상거래, Noun), (관리사, Noun), (2, Number), (급, ...  \n",
       "3  [(이민, Noun), (가서, Verb), (뭐, Noun), (해, Verb),...  \n",
       "4  [((, Punctuation), (Bingo, Alpha), (!), Punctu...  "
      ]
     },
     "execution_count": 23,
     "metadata": {},
     "output_type": "execute_result"
    }
   ],
   "source": [
    "df.head()"
   ]
  },
  {
   "cell_type": "code",
   "execution_count": 24,
   "id": "bd91380f",
   "metadata": {},
   "outputs": [],
   "source": [
    "df.to_csv('../data2/description_okt.csv')"
   ]
  },
  {
   "cell_type": "code",
   "execution_count": 25,
   "id": "7a94a1be",
   "metadata": {},
   "outputs": [
    {
     "data": {
      "text/html": [
       "<div>\n",
       "<style scoped>\n",
       "    .dataframe tbody tr th:only-of-type {\n",
       "        vertical-align: middle;\n",
       "    }\n",
       "\n",
       "    .dataframe tbody tr th {\n",
       "        vertical-align: top;\n",
       "    }\n",
       "\n",
       "    .dataframe thead th {\n",
       "        text-align: right;\n",
       "    }\n",
       "</style>\n",
       "<table border=\"1\" class=\"dataframe\">\n",
       "  <thead>\n",
       "    <tr style=\"text-align: right;\">\n",
       "      <th></th>\n",
       "      <th>user_key</th>\n",
       "      <th>kdc_class_no</th>\n",
       "      <th>title_description</th>\n",
       "      <th>okt_nouns</th>\n",
       "    </tr>\n",
       "  </thead>\n",
       "  <tbody>\n",
       "    <tr>\n",
       "      <th>0</th>\n",
       "      <td>4208654315914400000</td>\n",
       "      <td>233</td>\n",
       "      <td>주님의 기도:해설 별다른 의미 없이 기도를 반복하는 신자들을 위해 영혼들에게 깨달음...</td>\n",
       "      <td>[주님, 기도, 해설, 의미, 기도, 반복, 신자, 위해, 영혼, 깨달음, 기도, ...</td>\n",
       "    </tr>\n",
       "    <tr>\n",
       "      <th>1</th>\n",
       "      <td>4208654315914400000</td>\n",
       "      <td>234</td>\n",
       "      <td>생명의 옹달샘 하느님이 주신 주옥 같은 말씀들을 주제별로 엮은 책이다. 하느님의 말...</td>\n",
       "      <td>[생명, 옹달샘, 하느님, 주신, 주옥, 말씀, 주제, 별로, 엮, 책, 하느님, ...</td>\n",
       "    </tr>\n",
       "    <tr>\n",
       "      <th>2</th>\n",
       "      <td>1748935651519910000000000</td>\n",
       "      <td>326</td>\n",
       "      <td>전자상거래관리사 2급 필기 마스터바이블:전자상거래관련법규 정보통신부와 산업자원부가 ...</td>\n",
       "      <td>[전자상거래, 관리사, 급, 필기, 마스터, 바이블, 전자상거래, 관련, 법규, 정...</td>\n",
       "    </tr>\n",
       "    <tr>\n",
       "      <th>3</th>\n",
       "      <td>4208654315914400000</td>\n",
       "      <td>322</td>\n",
       "      <td>이민 가서 뭐해 먹고 살지:뉴질랜드 편 뉴질랜드에서 할만한 직업을 소개한 책. 뉴질...</td>\n",
       "      <td>[이민, 뭐, 살, 뉴질랜드, 편, 뉴질랜드, 직업, 소개, 책, 뉴질랜드, 현지,...</td>\n",
       "    </tr>\n",
       "    <tr>\n",
       "      <th>4</th>\n",
       "      <td>573748883482940000000000</td>\n",
       "      <td>4</td>\n",
       "      <td>(Bingo!)컴퓨터활용능력 2급 필기:컴퓨터 일반 독학으로 충분히 시험에 대비할 ...</td>\n",
       "      <td>[컴퓨터, 활용, 능력, 급, 필기, 컴퓨터, 일반, 독학, 시험, 대비, 수, 이...</td>\n",
       "    </tr>\n",
       "  </tbody>\n",
       "</table>\n",
       "</div>"
      ],
      "text/plain": [
       "                    user_key  kdc_class_no  \\\n",
       "0        4208654315914400000           233   \n",
       "1        4208654315914400000           234   \n",
       "2  1748935651519910000000000           326   \n",
       "3        4208654315914400000           322   \n",
       "4   573748883482940000000000             4   \n",
       "\n",
       "                                   title_description  \\\n",
       "0  주님의 기도:해설 별다른 의미 없이 기도를 반복하는 신자들을 위해 영혼들에게 깨달음...   \n",
       "1  생명의 옹달샘 하느님이 주신 주옥 같은 말씀들을 주제별로 엮은 책이다. 하느님의 말...   \n",
       "2  전자상거래관리사 2급 필기 마스터바이블:전자상거래관련법규 정보통신부와 산업자원부가 ...   \n",
       "3  이민 가서 뭐해 먹고 살지:뉴질랜드 편 뉴질랜드에서 할만한 직업을 소개한 책. 뉴질...   \n",
       "4  (Bingo!)컴퓨터활용능력 2급 필기:컴퓨터 일반 독학으로 충분히 시험에 대비할 ...   \n",
       "\n",
       "                                           okt_nouns  \n",
       "0  [주님, 기도, 해설, 의미, 기도, 반복, 신자, 위해, 영혼, 깨달음, 기도, ...  \n",
       "1  [생명, 옹달샘, 하느님, 주신, 주옥, 말씀, 주제, 별로, 엮, 책, 하느님, ...  \n",
       "2  [전자상거래, 관리사, 급, 필기, 마스터, 바이블, 전자상거래, 관련, 법규, 정...  \n",
       "3  [이민, 뭐, 살, 뉴질랜드, 편, 뉴질랜드, 직업, 소개, 책, 뉴질랜드, 현지,...  \n",
       "4  [컴퓨터, 활용, 능력, 급, 필기, 컴퓨터, 일반, 독학, 시험, 대비, 수, 이...  "
      ]
     },
     "execution_count": 25,
     "metadata": {},
     "output_type": "execute_result"
    }
   ],
   "source": [
    "df = df[['user_key','kdc_class_no','title_description','okt_nouns']]\n",
    "df.head()"
   ]
  },
  {
   "cell_type": "code",
   "execution_count": null,
   "id": "ee0efd00",
   "metadata": {},
   "outputs": [],
   "source": []
  }
 ],
 "metadata": {
  "kernelspec": {
   "display_name": "Python [conda env:library_37] *",
   "language": "python",
   "name": "conda-env-library_37-py"
  },
  "language_info": {
   "codemirror_mode": {
    "name": "ipython",
    "version": 3
   },
   "file_extension": ".py",
   "mimetype": "text/x-python",
   "name": "python",
   "nbconvert_exporter": "python",
   "pygments_lexer": "ipython3",
   "version": "3.7.13"
  }
 },
 "nbformat": 4,
 "nbformat_minor": 5
}
