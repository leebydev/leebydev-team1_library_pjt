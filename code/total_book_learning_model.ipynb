{
 "cells": [
  {
   "cell_type": "code",
   "execution_count": 1,
   "id": "d7a22362",
   "metadata": {},
   "outputs": [
    {
     "name": "stdout",
     "output_type": "stream",
     "text": [
      "c:\\jupyter_home\\통합프로젝트\\library\\code\n"
     ]
    }
   ],
   "source": [
    "import os\n",
    "print(os.getcwd())\n",
    "\n",
    "import warnings\n",
    "warnings.filterwarnings(action='ignore')"
   ]
  },
  {
   "cell_type": "code",
   "execution_count": 2,
   "id": "885aea41",
   "metadata": {},
   "outputs": [],
   "source": [
    "import pandas as pd\n",
    "import numpy as np\n",
    "import matplotlib.pyplot as plt\n",
    "import random\n",
    "from sklearn.manifold import TSNE\n",
    "from gensim.test.utils import common_texts\n",
    "from gensim.models.doc2vec import Doc2Vec, TaggedDocument\n",
    "from sklearn.metrics.pairwise import cosine_similarity"
   ]
  },
  {
   "cell_type": "code",
   "execution_count": 3,
   "id": "1d387edc",
   "metadata": {},
   "outputs": [
    {
     "data": {
      "text/html": [
       "<div>\n",
       "<style scoped>\n",
       "    .dataframe tbody tr th:only-of-type {\n",
       "        vertical-align: middle;\n",
       "    }\n",
       "\n",
       "    .dataframe tbody tr th {\n",
       "        vertical-align: top;\n",
       "    }\n",
       "\n",
       "    .dataframe thead th {\n",
       "        text-align: right;\n",
       "    }\n",
       "</style>\n",
       "<table border=\"1\" class=\"dataframe\">\n",
       "  <thead>\n",
       "    <tr style=\"text-align: right;\">\n",
       "      <th></th>\n",
       "      <th>master_seq</th>\n",
       "      <th>isbn13</th>\n",
       "      <th>vol</th>\n",
       "      <th>title</th>\n",
       "      <th>author</th>\n",
       "      <th>publisher</th>\n",
       "      <th>pub_date</th>\n",
       "      <th>add_code</th>\n",
       "      <th>price</th>\n",
       "      <th>img_url</th>\n",
       "      <th>description</th>\n",
       "      <th>kdc_class_no</th>\n",
       "      <th>title_replace</th>\n",
       "      <th>author_replace</th>\n",
       "      <th>pub_date_2</th>\n",
       "      <th>is_coll_aladin</th>\n",
       "      <th>is_coll_naver</th>\n",
       "      <th>isbn_origin</th>\n",
       "    </tr>\n",
       "  </thead>\n",
       "  <tbody>\n",
       "    <tr>\n",
       "      <th>0</th>\n",
       "      <td>6352228</td>\n",
       "      <td>9791156759270</td>\n",
       "      <td>NaN</td>\n",
       "      <td>너에게 목소리를 보낼게 - &amp;lt;달빛천사&amp;gt; 성우 이용신의 첫 번째 에세이</td>\n",
       "      <td>이용신 (지은이)</td>\n",
       "      <td>푸른숲</td>\n",
       "      <td>NaN</td>\n",
       "      <td>NaN</td>\n",
       "      <td>16000.0</td>\n",
       "      <td>https://image.aladin.co.kr/product/28415/8/cov...</td>\n",
       "      <td>2004년 방영한 애니메이션 &amp;lt;달빛천사&amp;gt;에서 주인공 루나(풀문) 역을 맡...</td>\n",
       "      <td>NaN</td>\n",
       "      <td>NaN</td>\n",
       "      <td>NaN</td>\n",
       "      <td>2021-12-03</td>\n",
       "      <td>NaN</td>\n",
       "      <td>NaN</td>\n",
       "      <td>NaN</td>\n",
       "    </tr>\n",
       "    <tr>\n",
       "      <th>1</th>\n",
       "      <td>6352229</td>\n",
       "      <td>9791168120877</td>\n",
       "      <td>NaN</td>\n",
       "      <td>일기에도 거짓말을 쓰는 사람 - 99년생 시인의 자의식 과잉 에세이</td>\n",
       "      <td>차도하 (지은이)</td>\n",
       "      <td>위즈덤하우스</td>\n",
       "      <td>NaN</td>\n",
       "      <td>NaN</td>\n",
       "      <td>15800.0</td>\n",
       "      <td>https://image.aladin.co.kr/product/28414/66/co...</td>\n",
       "      <td>“그러니 나는 말하고 싶은 것을 말하겠다”「침착하게 사랑하기」 차도하 시인 첫 에세...</td>\n",
       "      <td>NaN</td>\n",
       "      <td>NaN</td>\n",
       "      <td>NaN</td>\n",
       "      <td>2021-12-06</td>\n",
       "      <td>NaN</td>\n",
       "      <td>NaN</td>\n",
       "      <td>NaN</td>\n",
       "    </tr>\n",
       "    <tr>\n",
       "      <th>2</th>\n",
       "      <td>6352230</td>\n",
       "      <td>9791168120839</td>\n",
       "      <td>NaN</td>\n",
       "      <td>본격 한중일 세계사 12 - 임오군란과 통킹 위기</td>\n",
       "      <td>굽시니스트 (지은이)</td>\n",
       "      <td>위즈덤하우스</td>\n",
       "      <td>NaN</td>\n",
       "      <td>NaN</td>\n",
       "      <td>14800.0</td>\n",
       "      <td>https://image.aladin.co.kr/product/28414/47/co...</td>\n",
       "      <td>한중일 관계의 결정적 분기점인 임오군란의 막전 막후를 다룬다. 러시아의 세력 확장을...</td>\n",
       "      <td>NaN</td>\n",
       "      <td>NaN</td>\n",
       "      <td>NaN</td>\n",
       "      <td>2021-12-01</td>\n",
       "      <td>NaN</td>\n",
       "      <td>NaN</td>\n",
       "      <td>NaN</td>\n",
       "    </tr>\n",
       "    <tr>\n",
       "      <th>3</th>\n",
       "      <td>6352231</td>\n",
       "      <td>9791168120846</td>\n",
       "      <td>NaN</td>\n",
       "      <td>즉시 기분을 바꿔드립니다 - 신기하게 마음이 편해지는 응급 처방전</td>\n",
       "      <td>올리비아 레메스 (지은이), 김잔디 (옮긴이)</td>\n",
       "      <td>위즈덤하우스</td>\n",
       "      <td>NaN</td>\n",
       "      <td>NaN</td>\n",
       "      <td>14000.0</td>\n",
       "      <td>https://image.aladin.co.kr/product/28414/30/co...</td>\n",
       "      <td>누구에게나 기분 구급상자가 필요하다. 하나씩 하나씩 차근차근, 좋은 기분을 쌓고 건...</td>\n",
       "      <td>NaN</td>\n",
       "      <td>NaN</td>\n",
       "      <td>NaN</td>\n",
       "      <td>2021-12-01</td>\n",
       "      <td>NaN</td>\n",
       "      <td>NaN</td>\n",
       "      <td>NaN</td>\n",
       "    </tr>\n",
       "    <tr>\n",
       "      <th>4</th>\n",
       "      <td>6352232</td>\n",
       "      <td>9791168120747</td>\n",
       "      <td>NaN</td>\n",
       "      <td>오늘도 리추얼 : 음악, 나에게 선물하는 시간</td>\n",
       "      <td>정혜윤 (지은이)</td>\n",
       "      <td>위즈덤하우스</td>\n",
       "      <td>NaN</td>\n",
       "      <td>NaN</td>\n",
       "      <td>15000.0</td>\n",
       "      <td>https://image.aladin.co.kr/product/28413/80/co...</td>\n",
       "      <td>나다운 일상을 만드는 사람들의 이야기를 담은 『오늘도 리추얼』 시리즈가 위즈덤하우스...</td>\n",
       "      <td>NaN</td>\n",
       "      <td>NaN</td>\n",
       "      <td>NaN</td>\n",
       "      <td>2021-12-01</td>\n",
       "      <td>NaN</td>\n",
       "      <td>NaN</td>\n",
       "      <td>NaN</td>\n",
       "    </tr>\n",
       "  </tbody>\n",
       "</table>\n",
       "</div>"
      ],
      "text/plain": [
       "   master_seq         isbn13  vol  \\\n",
       "0     6352228  9791156759270  NaN   \n",
       "1     6352229  9791168120877  NaN   \n",
       "2     6352230  9791168120839  NaN   \n",
       "3     6352231  9791168120846  NaN   \n",
       "4     6352232  9791168120747  NaN   \n",
       "\n",
       "                                          title                     author  \\\n",
       "0  너에게 목소리를 보낼게 - &lt;달빛천사&gt; 성우 이용신의 첫 번째 에세이                  이용신 (지은이)   \n",
       "1         일기에도 거짓말을 쓰는 사람 - 99년생 시인의 자의식 과잉 에세이                  차도하 (지은이)   \n",
       "2                   본격 한중일 세계사 12 - 임오군란과 통킹 위기                굽시니스트 (지은이)   \n",
       "3          즉시 기분을 바꿔드립니다 - 신기하게 마음이 편해지는 응급 처방전  올리비아 레메스 (지은이), 김잔디 (옮긴이)   \n",
       "4                     오늘도 리추얼 : 음악, 나에게 선물하는 시간                  정혜윤 (지은이)   \n",
       "\n",
       "  publisher  pub_date add_code    price  \\\n",
       "0       푸른숲       NaN      NaN  16000.0   \n",
       "1    위즈덤하우스       NaN      NaN  15800.0   \n",
       "2    위즈덤하우스       NaN      NaN  14800.0   \n",
       "3    위즈덤하우스       NaN      NaN  14000.0   \n",
       "4    위즈덤하우스       NaN      NaN  15000.0   \n",
       "\n",
       "                                             img_url  \\\n",
       "0  https://image.aladin.co.kr/product/28415/8/cov...   \n",
       "1  https://image.aladin.co.kr/product/28414/66/co...   \n",
       "2  https://image.aladin.co.kr/product/28414/47/co...   \n",
       "3  https://image.aladin.co.kr/product/28414/30/co...   \n",
       "4  https://image.aladin.co.kr/product/28413/80/co...   \n",
       "\n",
       "                                         description  kdc_class_no  \\\n",
       "0  2004년 방영한 애니메이션 &lt;달빛천사&gt;에서 주인공 루나(풀문) 역을 맡...           NaN   \n",
       "1  “그러니 나는 말하고 싶은 것을 말하겠다”「침착하게 사랑하기」 차도하 시인 첫 에세...           NaN   \n",
       "2  한중일 관계의 결정적 분기점인 임오군란의 막전 막후를 다룬다. 러시아의 세력 확장을...           NaN   \n",
       "3  누구에게나 기분 구급상자가 필요하다. 하나씩 하나씩 차근차근, 좋은 기분을 쌓고 건...           NaN   \n",
       "4  나다운 일상을 만드는 사람들의 이야기를 담은 『오늘도 리추얼』 시리즈가 위즈덤하우스...           NaN   \n",
       "\n",
       "  title_replace author_replace  pub_date_2 is_coll_aladin is_coll_naver  \\\n",
       "0           NaN            NaN  2021-12-03            NaN           NaN   \n",
       "1           NaN            NaN  2021-12-06            NaN           NaN   \n",
       "2           NaN            NaN  2021-12-01            NaN           NaN   \n",
       "3           NaN            NaN  2021-12-01            NaN           NaN   \n",
       "4           NaN            NaN  2021-12-01            NaN           NaN   \n",
       "\n",
       "  isbn_origin  \n",
       "0         NaN  \n",
       "1         NaN  \n",
       "2         NaN  \n",
       "3         NaN  \n",
       "4         NaN  "
      ]
     },
     "metadata": {},
     "output_type": "display_data"
    },
    {
     "name": "stdout",
     "output_type": "stream",
     "text": [
      "<class 'pandas.core.frame.DataFrame'>\n",
      "RangeIndex: 157118 entries, 0 to 157117\n",
      "Data columns (total 18 columns):\n",
      " #   Column          Non-Null Count   Dtype  \n",
      "---  ------          --------------   -----  \n",
      " 0   master_seq      157118 non-null  int64  \n",
      " 1   isbn13          157118 non-null  int64  \n",
      " 2   vol             39708 non-null   object \n",
      " 3   title           157118 non-null  object \n",
      " 4   author          157039 non-null  object \n",
      " 5   publisher       151577 non-null  object \n",
      " 6   pub_date        0 non-null       float64\n",
      " 7   add_code        129589 non-null  object \n",
      " 8   price           111394 non-null  float64\n",
      " 9   img_url         98337 non-null   object \n",
      " 10  description     84205 non-null   object \n",
      " 11  kdc_class_no    143057 non-null  float64\n",
      " 12  title_replace   148739 non-null  object \n",
      " 13  author_replace  149217 non-null  object \n",
      " 14  pub_date_2      103518 non-null  object \n",
      " 15  is_coll_aladin  154554 non-null  object \n",
      " 16  is_coll_naver   154554 non-null  object \n",
      " 17  isbn_origin     100516 non-null  object \n",
      "dtypes: float64(3), int64(2), object(13)\n",
      "memory usage: 21.6+ MB\n"
     ]
    }
   ],
   "source": [
    "df = pd.read_csv('../data/NL_BO_SPECIES_MASTER_NEW_202112.csv')\n",
    "display(df.head())\n",
    "df.info()"
   ]
  },
  {
   "cell_type": "code",
   "execution_count": 4,
   "id": "7015f208",
   "metadata": {},
   "outputs": [],
   "source": [
    "df2 = df[['title','kdc_class_no','description']]"
   ]
  },
  {
   "cell_type": "code",
   "execution_count": 5,
   "id": "108d6e7d",
   "metadata": {},
   "outputs": [],
   "source": [
    "# 데이터 전처리\n",
    "def preprocessing_data(df):\n",
    "    df['title_description'] = df['title'] + \" \" + df['description']\n",
    "    df.drop(['title', 'description'], axis=1, inplace=True)\n",
    "    return df"
   ]
  },
  {
   "cell_type": "code",
   "execution_count": 7,
   "id": "d6ff533b",
   "metadata": {},
   "outputs": [
    {
     "data": {
      "text/html": [
       "<div>\n",
       "<style scoped>\n",
       "    .dataframe tbody tr th:only-of-type {\n",
       "        vertical-align: middle;\n",
       "    }\n",
       "\n",
       "    .dataframe tbody tr th {\n",
       "        vertical-align: top;\n",
       "    }\n",
       "\n",
       "    .dataframe thead th {\n",
       "        text-align: right;\n",
       "    }\n",
       "</style>\n",
       "<table border=\"1\" class=\"dataframe\">\n",
       "  <thead>\n",
       "    <tr style=\"text-align: right;\">\n",
       "      <th></th>\n",
       "      <th>kdc_class_no</th>\n",
       "      <th>title_description</th>\n",
       "    </tr>\n",
       "  </thead>\n",
       "  <tbody>\n",
       "    <tr>\n",
       "      <th>0</th>\n",
       "      <td>NaN</td>\n",
       "      <td>너에게 목소리를 보낼게 - &amp;lt;달빛천사&amp;gt; 성우 이용신의 첫 번째 에세이 2...</td>\n",
       "    </tr>\n",
       "    <tr>\n",
       "      <th>1</th>\n",
       "      <td>NaN</td>\n",
       "      <td>일기에도 거짓말을 쓰는 사람 - 99년생 시인의 자의식 과잉 에세이 “그러니 나는 ...</td>\n",
       "    </tr>\n",
       "    <tr>\n",
       "      <th>2</th>\n",
       "      <td>NaN</td>\n",
       "      <td>본격 한중일 세계사 12 - 임오군란과 통킹 위기 한중일 관계의 결정적 분기점인 임...</td>\n",
       "    </tr>\n",
       "    <tr>\n",
       "      <th>3</th>\n",
       "      <td>NaN</td>\n",
       "      <td>즉시 기분을 바꿔드립니다 - 신기하게 마음이 편해지는 응급 처방전 누구에게나 기분 ...</td>\n",
       "    </tr>\n",
       "    <tr>\n",
       "      <th>4</th>\n",
       "      <td>NaN</td>\n",
       "      <td>오늘도 리추얼 : 음악, 나에게 선물하는 시간 나다운 일상을 만드는 사람들의 이야기...</td>\n",
       "    </tr>\n",
       "  </tbody>\n",
       "</table>\n",
       "</div>"
      ],
      "text/plain": [
       "   kdc_class_no                                  title_description\n",
       "0           NaN  너에게 목소리를 보낼게 - &lt;달빛천사&gt; 성우 이용신의 첫 번째 에세이 2...\n",
       "1           NaN  일기에도 거짓말을 쓰는 사람 - 99년생 시인의 자의식 과잉 에세이 “그러니 나는 ...\n",
       "2           NaN  본격 한중일 세계사 12 - 임오군란과 통킹 위기 한중일 관계의 결정적 분기점인 임...\n",
       "3           NaN  즉시 기분을 바꿔드립니다 - 신기하게 마음이 편해지는 응급 처방전 누구에게나 기분 ...\n",
       "4           NaN  오늘도 리추얼 : 음악, 나에게 선물하는 시간 나다운 일상을 만드는 사람들의 이야기..."
      ]
     },
     "metadata": {},
     "output_type": "display_data"
    }
   ],
   "source": [
    "df2 = preprocessing_data(df2)\n",
    "display(df2.head())"
   ]
  },
  {
   "cell_type": "code",
   "execution_count": 8,
   "id": "c1a59467",
   "metadata": {},
   "outputs": [
    {
     "data": {
      "text/html": [
       "<div>\n",
       "<style scoped>\n",
       "    .dataframe tbody tr th:only-of-type {\n",
       "        vertical-align: middle;\n",
       "    }\n",
       "\n",
       "    .dataframe tbody tr th {\n",
       "        vertical-align: top;\n",
       "    }\n",
       "\n",
       "    .dataframe thead th {\n",
       "        text-align: right;\n",
       "    }\n",
       "</style>\n",
       "<table border=\"1\" class=\"dataframe\">\n",
       "  <thead>\n",
       "    <tr style=\"text-align: right;\">\n",
       "      <th></th>\n",
       "      <th>kdc_class_no</th>\n",
       "      <th>title_description</th>\n",
       "    </tr>\n",
       "  </thead>\n",
       "  <tbody>\n",
       "    <tr>\n",
       "      <th>55</th>\n",
       "      <td>811.7</td>\n",
       "      <td>그 너머의 시 - 오하룡 시집 오하룡 시집 『그 너머의 시』는 『시집 밖의 시』를 ...</td>\n",
       "    </tr>\n",
       "    <tr>\n",
       "      <th>75</th>\n",
       "      <td>744.0</td>\n",
       "      <td>10일 만에 끝내는 영단어 1000 (상급) 잘 암기되는 단어와 암기가 안 되는 단...</td>\n",
       "    </tr>\n",
       "    <tr>\n",
       "      <th>77</th>\n",
       "      <td>234.8</td>\n",
       "      <td>말씀대로 말하라 - 주의 말씀대로 말할 때 하나님의 뜻은 이루어진다 하나님의 말씀대...</td>\n",
       "    </tr>\n",
       "    <tr>\n",
       "      <th>322</th>\n",
       "      <td>811.7</td>\n",
       "      <td>반달은 반쪽인가 문예바다 서정시선집 5권. 시인은 “시의 본령은 아무리 시대가 어려...</td>\n",
       "    </tr>\n",
       "    <tr>\n",
       "      <th>401</th>\n",
       "      <td>688.0</td>\n",
       "      <td>로건 로건의 마지막 여정을 서부극의 정서로 조율해낸 제임스맨 골드의 탁월한 연출</td>\n",
       "    </tr>\n",
       "  </tbody>\n",
       "</table>\n",
       "</div>"
      ],
      "text/plain": [
       "     kdc_class_no                                  title_description\n",
       "55          811.7  그 너머의 시 - 오하룡 시집 오하룡 시집 『그 너머의 시』는 『시집 밖의 시』를 ...\n",
       "75          744.0  10일 만에 끝내는 영단어 1000 (상급) 잘 암기되는 단어와 암기가 안 되는 단...\n",
       "77          234.8  말씀대로 말하라 - 주의 말씀대로 말할 때 하나님의 뜻은 이루어진다 하나님의 말씀대...\n",
       "322         811.7  반달은 반쪽인가 문예바다 서정시선집 5권. 시인은 “시의 본령은 아무리 시대가 어려...\n",
       "401         688.0       로건 로건의 마지막 여정을 서부극의 정서로 조율해낸 제임스맨 골드의 탁월한 연출"
      ]
     },
     "metadata": {},
     "output_type": "display_data"
    }
   ],
   "source": [
    "df2 = df2.dropna()\n",
    "display(df2.head())"
   ]
  },
  {
   "cell_type": "code",
   "execution_count": 9,
   "id": "468c19f7",
   "metadata": {},
   "outputs": [],
   "source": [
    "df2['kdc_class_no'] = df2['kdc_class_no'].astype(int)"
   ]
  },
  {
   "cell_type": "code",
   "execution_count": 10,
   "id": "3231b76a",
   "metadata": {
    "scrolled": true
   },
   "outputs": [
    {
     "name": "stdout",
     "output_type": "stream",
     "text": [
      "<class 'pandas.core.frame.DataFrame'>\n",
      "Int64Index: 79238 entries, 55 to 156920\n",
      "Data columns (total 2 columns):\n",
      " #   Column             Non-Null Count  Dtype \n",
      "---  ------             --------------  ----- \n",
      " 0   kdc_class_no       79238 non-null  int32 \n",
      " 1   title_description  79238 non-null  object\n",
      "dtypes: int32(1), object(1)\n",
      "memory usage: 1.5+ MB\n"
     ]
    }
   ],
   "source": [
    "df2.info()"
   ]
  },
  {
   "cell_type": "code",
   "execution_count": 11,
   "id": "8f10f74e",
   "metadata": {},
   "outputs": [],
   "source": [
    "from konlpy.tag import Kkma\n",
    "from konlpy.utils import pprint\n",
    "from konlpy.tag import Okt"
   ]
  },
  {
   "cell_type": "code",
   "execution_count": 12,
   "id": "e14ab74b",
   "metadata": {},
   "outputs": [],
   "source": [
    "okt = Okt()"
   ]
  },
  {
   "cell_type": "code",
   "execution_count": 13,
   "id": "b6c20e03",
   "metadata": {},
   "outputs": [],
   "source": [
    "title_description = df2['title_description']"
   ]
  },
  {
   "cell_type": "code",
   "execution_count": 14,
   "id": "af1db69b",
   "metadata": {},
   "outputs": [],
   "source": [
    "df2['okt_nouns'] = df2['title_description'].apply(okt.nouns)"
   ]
  },
  {
   "cell_type": "code",
   "execution_count": 15,
   "id": "4b1b67ba",
   "metadata": {},
   "outputs": [],
   "source": [
    "df2.to_csv('../data/total_book_description_okt.csv')"
   ]
  },
  {
   "cell_type": "code",
   "execution_count": null,
   "id": "8bfeaa05",
   "metadata": {},
   "outputs": [],
   "source": []
  }
 ],
 "metadata": {
  "kernelspec": {
   "display_name": "Python [conda env:library_37] *",
   "language": "python",
   "name": "conda-env-library_37-py"
  },
  "language_info": {
   "codemirror_mode": {
    "name": "ipython",
    "version": 3
   },
   "file_extension": ".py",
   "mimetype": "text/x-python",
   "name": "python",
   "nbconvert_exporter": "python",
   "pygments_lexer": "ipython3",
   "version": "3.7.13"
  }
 },
 "nbformat": 4,
 "nbformat_minor": 5
}
