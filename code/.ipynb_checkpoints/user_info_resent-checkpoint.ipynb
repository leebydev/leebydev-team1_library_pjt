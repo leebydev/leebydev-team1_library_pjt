{
 "cells": [
  {
   "cell_type": "code",
   "execution_count": 9,
   "id": "9105103f",
   "metadata": {},
   "outputs": [
    {
     "name": "stdout",
     "output_type": "stream",
     "text": [
      "c:\\jupyter_home\\통합프로젝트\\library\\code\n"
     ]
    }
   ],
   "source": [
    "import os\n",
    "print(os.getcwd())\n",
    "\n",
    "import warnings\n",
    "warnings.filterwarnings(action='ignore')"
   ]
  },
  {
   "cell_type": "code",
   "execution_count": 10,
   "id": "dc692abf",
   "metadata": {},
   "outputs": [],
   "source": [
    "import pandas as pd"
   ]
  },
  {
   "cell_type": "code",
   "execution_count": 3,
   "id": "572fd426",
   "metadata": {},
   "outputs": [
    {
     "name": "stdout",
     "output_type": "stream",
     "text": [
      "G:\\통합프로젝트\\data2\n"
     ]
    }
   ],
   "source": [
    "cd G:\\통합프로젝트\\data2"
   ]
  },
  {
   "cell_type": "code",
   "execution_count": 4,
   "id": "886cff41",
   "metadata": {},
   "outputs": [
    {
     "data": {
      "text/plain": [
       "['user_info_11.csv',\n",
       " 'user_info_12.csv',\n",
       " 'user_info_13.csv',\n",
       " 'user_info_14.csv',\n",
       " 'user_info_15.csv',\n",
       " 'user_info_16.csv',\n",
       " 'user_info_17.csv',\n",
       " 'user_info_18.csv',\n",
       " 'user_info_19.csv',\n",
       " 'user_info_20.csv']"
      ]
     },
     "execution_count": 4,
     "metadata": {},
     "output_type": "execute_result"
    }
   ],
   "source": [
    "os.listdir('../data2')"
   ]
  },
  {
   "cell_type": "code",
   "execution_count": 5,
   "id": "bdec5515",
   "metadata": {},
   "outputs": [],
   "source": [
    "forders = os.listdir('../data2')"
   ]
  },
  {
   "cell_type": "code",
   "execution_count": 6,
   "id": "629c357d",
   "metadata": {},
   "outputs": [
    {
     "name": "stdout",
     "output_type": "stream",
     "text": [
      "G:\\통합프로젝트\\data2\n"
     ]
    }
   ],
   "source": [
    "cd ../data2"
   ]
  },
  {
   "cell_type": "code",
   "execution_count": 9,
   "id": "368ce707",
   "metadata": {},
   "outputs": [],
   "source": [
    "import os\n",
    "\n",
    "path = '../data2/'\n",
    "file_list = os.listdir(path)\n",
    "file_list_py = [file for file in file_list if file.endswith('.csv')]\n",
    "\n",
    "df = pd.DataFrame()\n",
    "for i in file_list_py:\n",
    "    data = pd.read_csv(path + i, error_bad_lines=False)\n",
    "    df = pd.concat([df,data])\n",
    "    \n",
    "df = df.reset_index(drop = True)"
   ]
  },
  {
   "cell_type": "code",
   "execution_count": 61,
   "id": "049a54e1",
   "metadata": {},
   "outputs": [
    {
     "name": "stdout",
     "output_type": "stream",
     "text": [
      "<class 'pandas.core.frame.DataFrame'>\n",
      "RangeIndex: 18543501 entries, 0 to 18543500\n",
      "Data columns (total 5 columns):\n",
      " #   Column       Dtype \n",
      "---  ------       ----- \n",
      " 0   rec_key      int64 \n",
      " 1   book_key     int64 \n",
      " 2   user_key     object\n",
      " 3   loan_date    object\n",
      " 4   return_date  object\n",
      "dtypes: int64(2), object(3)\n",
      "memory usage: 707.4+ MB\n"
     ]
    }
   ],
   "source": [
    "df.info()"
   ]
  },
  {
   "cell_type": "code",
   "execution_count": 60,
   "id": "6b0b0a8c",
   "metadata": {},
   "outputs": [
    {
     "data": {
      "text/html": [
       "<div>\n",
       "<style scoped>\n",
       "    .dataframe tbody tr th:only-of-type {\n",
       "        vertical-align: middle;\n",
       "    }\n",
       "\n",
       "    .dataframe tbody tr th {\n",
       "        vertical-align: top;\n",
       "    }\n",
       "\n",
       "    .dataframe thead th {\n",
       "        text-align: right;\n",
       "    }\n",
       "</style>\n",
       "<table border=\"1\" class=\"dataframe\">\n",
       "  <thead>\n",
       "    <tr style=\"text-align: right;\">\n",
       "      <th></th>\n",
       "      <th>rec_key</th>\n",
       "      <th>book_key</th>\n",
       "      <th>user_key</th>\n",
       "      <th>loan_date</th>\n",
       "      <th>return_date</th>\n",
       "    </tr>\n",
       "  </thead>\n",
       "  <tbody>\n",
       "    <tr>\n",
       "      <th>0</th>\n",
       "      <td>1822450338</td>\n",
       "      <td>1699774223</td>\n",
       "      <td>D42A0AECF86DE543E159EBCF1F440F55BD9CEF5F</td>\n",
       "      <td>2022-03-31 12:00:00.0</td>\n",
       "      <td>2022-04-18 12:00:00.0</td>\n",
       "    </tr>\n",
       "    <tr>\n",
       "      <th>1</th>\n",
       "      <td>1823175933</td>\n",
       "      <td>1625377432</td>\n",
       "      <td>C0149AC77AF2058BCA3E07FE765A0E30837261EA</td>\n",
       "      <td>2022-04-19 12:00:00.0</td>\n",
       "      <td>2022-04-21 12:00:00.0</td>\n",
       "    </tr>\n",
       "    <tr>\n",
       "      <th>2</th>\n",
       "      <td>1822450339</td>\n",
       "      <td>1699774321</td>\n",
       "      <td>D42A0AECF86DE543E159EBCF1F440F55BD9CEF5F</td>\n",
       "      <td>2022-03-31 12:00:00.0</td>\n",
       "      <td>2022-04-18 12:00:00.0</td>\n",
       "    </tr>\n",
       "    <tr>\n",
       "      <th>3</th>\n",
       "      <td>1823176082</td>\n",
       "      <td>1616331145</td>\n",
       "      <td>E1A7C4AF8B9356CE5A15199E17707545DD7D76DB</td>\n",
       "      <td>2022-04-19 12:00:00.0</td>\n",
       "      <td>2022-04-22 12:00:00.0</td>\n",
       "    </tr>\n",
       "    <tr>\n",
       "      <th>4</th>\n",
       "      <td>1822450340</td>\n",
       "      <td>1689903085</td>\n",
       "      <td>D42A0AECF86DE543E159EBCF1F440F55BD9CEF5F</td>\n",
       "      <td>2022-03-31 12:00:00.0</td>\n",
       "      <td>2022-04-18 12:00:00.0</td>\n",
       "    </tr>\n",
       "  </tbody>\n",
       "</table>\n",
       "</div>"
      ],
      "text/plain": [
       "      rec_key    book_key                                  user_key  \\\n",
       "0  1822450338  1699774223  D42A0AECF86DE543E159EBCF1F440F55BD9CEF5F   \n",
       "1  1823175933  1625377432  C0149AC77AF2058BCA3E07FE765A0E30837261EA   \n",
       "2  1822450339  1699774321  D42A0AECF86DE543E159EBCF1F440F55BD9CEF5F   \n",
       "3  1823176082  1616331145  E1A7C4AF8B9356CE5A15199E17707545DD7D76DB   \n",
       "4  1822450340  1689903085  D42A0AECF86DE543E159EBCF1F440F55BD9CEF5F   \n",
       "\n",
       "               loan_date            return_date  \n",
       "0  2022-03-31 12:00:00.0  2022-04-18 12:00:00.0  \n",
       "1  2022-04-19 12:00:00.0  2022-04-21 12:00:00.0  \n",
       "2  2022-03-31 12:00:00.0  2022-04-18 12:00:00.0  \n",
       "3  2022-04-19 12:00:00.0  2022-04-22 12:00:00.0  \n",
       "4  2022-03-31 12:00:00.0  2022-04-18 12:00:00.0  "
      ]
     },
     "metadata": {},
     "output_type": "display_data"
    }
   ],
   "source": [
    "display(df.head())"
   ]
  },
  {
   "cell_type": "code",
   "execution_count": 11,
   "id": "36628383",
   "metadata": {},
   "outputs": [],
   "source": [
    "df.to_csv('../data2/user_info_reset.csv')"
   ]
  },
  {
   "cell_type": "code",
   "execution_count": 14,
   "id": "767613e0",
   "metadata": {},
   "outputs": [],
   "source": [
    "import pandas as pd\n",
    "import numpy as np"
   ]
  },
  {
   "cell_type": "code",
   "execution_count": 3,
   "id": "b33d12f5",
   "metadata": {},
   "outputs": [
    {
     "name": "stderr",
     "output_type": "stream",
     "text": [
      "C:\\Users\\yibob\\AppData\\Local\\Temp\\ipykernel_13764\\2478813399.py:1: DtypeWarning: Columns (7,8,10,11,12,13,14,15,16,17) have mixed types. Specify dtype option on import or set low_memory=False.\n",
      "  df = pd.read_csv('../data/user_info_reset.csv')\n"
     ]
    }
   ],
   "source": [
    "df = pd.read_csv('../data/user_info_reset.csv')"
   ]
  },
  {
   "cell_type": "code",
   "execution_count": null,
   "id": "8be5d568",
   "metadata": {},
   "outputs": [],
   "source": [
    "df.info()"
   ]
  },
  {
   "cell_type": "code",
   "execution_count": 4,
   "id": "c980247d",
   "metadata": {},
   "outputs": [],
   "source": [
    "df = df[['rec_key','book_key','user_key','loan_date','return_date']]"
   ]
  },
  {
   "cell_type": "code",
   "execution_count": 5,
   "id": "29f94ad2",
   "metadata": {
    "scrolled": false
   },
   "outputs": [
    {
     "data": {
      "text/plain": [
       "022FEB738926B92AF180C5165B668D6A1EFA59B3                            4721\n",
       "71D159439125294DDFB88D0E4EFA3FF878E3FD44                            4637\n",
       "52F2E58CB41DCCE478324F9885D358A955E2BA95                            4546\n",
       "2CA8D880CAE18FC3D982DA52162032185CF53F31                            4242\n",
       "92E45478D1031EFDD0C81616DCDA6E473C56035D                            3853\n",
       "                                                                    ... \n",
       "3a65da21a403042c11b4459034904145cf33cd07f0a23b574538a6e922fbacd5       1\n",
       "c9f342115ac20c6de730bcb532c3b444540f4099a155e44853b41f25f1efb831       1\n",
       "d07ef4818b2f9cec3928a79f8c9b32da6172e96a6ce13dc85edaf6fbff615489       1\n",
       "157c5c4f081c871fdcc913ad665e643a6ecd455c0033dab7a05f4898dc28b66a       1\n",
       "2A3036303230303031333330                                               1\n",
       "Name: user_key, Length: 1212343, dtype: int64"
      ]
     },
     "execution_count": 5,
     "metadata": {},
     "output_type": "execute_result"
    }
   ],
   "source": [
    "df['user_key'].value_counts()"
   ]
  },
  {
   "cell_type": "code",
   "execution_count": 56,
   "id": "b5d74cd2",
   "metadata": {},
   "outputs": [
    {
     "ename": "ValueError",
     "evalue": "The truth value of a Series is ambiguous. Use a.empty, a.bool(), a.item(), a.any() or a.all().",
     "output_type": "error",
     "traceback": [
      "\u001b[1;31m---------------------------------------------------------------------------\u001b[0m",
      "\u001b[1;31mValueError\u001b[0m                                Traceback (most recent call last)",
      "Input \u001b[1;32mIn [56]\u001b[0m, in \u001b[0;36m<cell line: 1>\u001b[1;34m()\u001b[0m\n\u001b[1;32m----> 1\u001b[0m a \u001b[38;5;241m=\u001b[39m (df[\u001b[38;5;124m'\u001b[39m\u001b[38;5;124muser_key\u001b[39m\u001b[38;5;124m'\u001b[39m]\u001b[38;5;241m.\u001b[39mvalue_counts() \u001b[38;5;241m>\u001b[39m \u001b[38;5;241m50\u001b[39m \u001b[38;5;241m&\u001b[39m df[\u001b[38;5;124m'\u001b[39m\u001b[38;5;124muser_key\u001b[39m\u001b[38;5;124m'\u001b[39m]\u001b[38;5;241m.\u001b[39mvalue_counts() \u001b[38;5;241m<\u001b[39m \u001b[38;5;241m100\u001b[39m)\n\u001b[0;32m      2\u001b[0m b \u001b[38;5;241m=\u001b[39m \u001b[38;5;28mlist\u001b[39m(a[a]\u001b[38;5;241m.\u001b[39mindex)\n",
      "File \u001b[1;32m~\\anaconda3\\envs\\ML_Project_5th\\lib\\site-packages\\pandas\\core\\generic.py:1527\u001b[0m, in \u001b[0;36mNDFrame.__nonzero__\u001b[1;34m(self)\u001b[0m\n\u001b[0;32m   1525\u001b[0m \u001b[38;5;129m@final\u001b[39m\n\u001b[0;32m   1526\u001b[0m \u001b[38;5;28;01mdef\u001b[39;00m \u001b[38;5;21m__nonzero__\u001b[39m(\u001b[38;5;28mself\u001b[39m):\n\u001b[1;32m-> 1527\u001b[0m     \u001b[38;5;28;01mraise\u001b[39;00m \u001b[38;5;167;01mValueError\u001b[39;00m(\n\u001b[0;32m   1528\u001b[0m         \u001b[38;5;124mf\u001b[39m\u001b[38;5;124m\"\u001b[39m\u001b[38;5;124mThe truth value of a \u001b[39m\u001b[38;5;132;01m{\u001b[39;00m\u001b[38;5;28mtype\u001b[39m(\u001b[38;5;28mself\u001b[39m)\u001b[38;5;241m.\u001b[39m\u001b[38;5;18m__name__\u001b[39m\u001b[38;5;132;01m}\u001b[39;00m\u001b[38;5;124m is ambiguous. \u001b[39m\u001b[38;5;124m\"\u001b[39m\n\u001b[0;32m   1529\u001b[0m         \u001b[38;5;124m\"\u001b[39m\u001b[38;5;124mUse a.empty, a.bool(), a.item(), a.any() or a.all().\u001b[39m\u001b[38;5;124m\"\u001b[39m\n\u001b[0;32m   1530\u001b[0m     )\n",
      "\u001b[1;31mValueError\u001b[0m: The truth value of a Series is ambiguous. Use a.empty, a.bool(), a.item(), a.any() or a.all()."
     ]
    }
   ],
   "source": [
    "a = (df['user_key'].value_counts() > 50 & df['user_key'].value_counts() < 100)\n",
    "b = list(a[a].index)"
   ]
  },
  {
   "cell_type": "code",
   "execution_count": 53,
   "id": "22e72b2e",
   "metadata": {
    "scrolled": true
   },
   "outputs": [
    {
     "name": "stdout",
     "output_type": "stream",
     "text": [
      "56034\n"
     ]
    }
   ],
   "source": [
    "print(len(b))"
   ]
  },
  {
   "cell_type": "code",
   "execution_count": 64,
   "id": "cb9e2c92",
   "metadata": {},
   "outputs": [
    {
     "name": "stdout",
     "output_type": "stream",
     "text": [
      "56034\n"
     ]
    }
   ],
   "source": [
    "a = df['user_key'].value_counts() > 50\n",
    "b = list(a[a].index)\n",
    "print(len(b))"
   ]
  },
  {
   "cell_type": "code",
   "execution_count": 71,
   "id": "acfa4f26",
   "metadata": {},
   "outputs": [
    {
     "data": {
      "text/html": [
       "<div>\n",
       "<style scoped>\n",
       "    .dataframe tbody tr th:only-of-type {\n",
       "        vertical-align: middle;\n",
       "    }\n",
       "\n",
       "    .dataframe tbody tr th {\n",
       "        vertical-align: top;\n",
       "    }\n",
       "\n",
       "    .dataframe thead th {\n",
       "        text-align: right;\n",
       "    }\n",
       "</style>\n",
       "<table border=\"1\" class=\"dataframe\">\n",
       "  <thead>\n",
       "    <tr style=\"text-align: right;\">\n",
       "      <th></th>\n",
       "      <th>rec_key</th>\n",
       "      <th>book_key</th>\n",
       "      <th>user_key</th>\n",
       "      <th>loan_date</th>\n",
       "      <th>return_date</th>\n",
       "    </tr>\n",
       "  </thead>\n",
       "  <tbody>\n",
       "    <tr>\n",
       "      <th>0</th>\n",
       "      <td>1822450338</td>\n",
       "      <td>1204091352</td>\n",
       "      <td>D42A0AECF86DE543E159EBCF1F440F55BD9CEF5F</td>\n",
       "      <td>2022-03-31 12:00:00.0</td>\n",
       "      <td>2022-04-18 12:00:00.0</td>\n",
       "    </tr>\n",
       "    <tr>\n",
       "      <th>1</th>\n",
       "      <td>1823175933</td>\n",
       "      <td>1204091352</td>\n",
       "      <td>C0149AC77AF2058BCA3E07FE765A0E30837261EA</td>\n",
       "      <td>2022-04-19 12:00:00.0</td>\n",
       "      <td>2022-04-21 12:00:00.0</td>\n",
       "    </tr>\n",
       "    <tr>\n",
       "      <th>2</th>\n",
       "      <td>1822450339</td>\n",
       "      <td>1204091352</td>\n",
       "      <td>D42A0AECF86DE543E159EBCF1F440F55BD9CEF5F</td>\n",
       "      <td>2022-03-31 12:00:00.0</td>\n",
       "      <td>2022-04-18 12:00:00.0</td>\n",
       "    </tr>\n",
       "    <tr>\n",
       "      <th>3</th>\n",
       "      <td>1823176082</td>\n",
       "      <td>1204091352</td>\n",
       "      <td>E1A7C4AF8B9356CE5A15199E17707545DD7D76DB</td>\n",
       "      <td>2022-04-19 12:00:00.0</td>\n",
       "      <td>2022-04-22 12:00:00.0</td>\n",
       "    </tr>\n",
       "    <tr>\n",
       "      <th>4</th>\n",
       "      <td>1822450340</td>\n",
       "      <td>1204091352</td>\n",
       "      <td>D42A0AECF86DE543E159EBCF1F440F55BD9CEF5F</td>\n",
       "      <td>2022-03-31 12:00:00.0</td>\n",
       "      <td>2022-04-18 12:00:00.0</td>\n",
       "    </tr>\n",
       "    <tr>\n",
       "      <th>...</th>\n",
       "      <td>...</td>\n",
       "      <td>...</td>\n",
       "      <td>...</td>\n",
       "      <td>...</td>\n",
       "      <td>...</td>\n",
       "    </tr>\n",
       "    <tr>\n",
       "      <th>18543496</th>\n",
       "      <td>21456926</td>\n",
       "      <td>1204091352</td>\n",
       "      <td>2A3134313230303030303930</td>\n",
       "      <td>2022-04-29 12:00:00.0</td>\n",
       "      <td>NaN</td>\n",
       "    </tr>\n",
       "    <tr>\n",
       "      <th>18543497</th>\n",
       "      <td>21456927</td>\n",
       "      <td>1204091352</td>\n",
       "      <td>2A3134313230303030303930</td>\n",
       "      <td>2022-04-29 12:00:00.0</td>\n",
       "      <td>NaN</td>\n",
       "    </tr>\n",
       "    <tr>\n",
       "      <th>18543498</th>\n",
       "      <td>21456941</td>\n",
       "      <td>1204091352</td>\n",
       "      <td>2A3231313130303030343131</td>\n",
       "      <td>2022-04-29 12:00:00.0</td>\n",
       "      <td>NaN</td>\n",
       "    </tr>\n",
       "    <tr>\n",
       "      <th>18543499</th>\n",
       "      <td>21456942</td>\n",
       "      <td>1204091352</td>\n",
       "      <td>2A3231313130303030343131</td>\n",
       "      <td>2022-04-29 12:00:00.0</td>\n",
       "      <td>NaN</td>\n",
       "    </tr>\n",
       "    <tr>\n",
       "      <th>18543500</th>\n",
       "      <td>9829482</td>\n",
       "      <td>1204091352</td>\n",
       "      <td>2A3036303230303031333330</td>\n",
       "      <td>2013-12-01 12:00:00.0</td>\n",
       "      <td>2022-04-21 12:00:00.0</td>\n",
       "    </tr>\n",
       "  </tbody>\n",
       "</table>\n",
       "<p>18543501 rows × 5 columns</p>\n",
       "</div>"
      ],
      "text/plain": [
       "             rec_key    book_key                                  user_key  \\\n",
       "0         1822450338  1204091352  D42A0AECF86DE543E159EBCF1F440F55BD9CEF5F   \n",
       "1         1823175933  1204091352  C0149AC77AF2058BCA3E07FE765A0E30837261EA   \n",
       "2         1822450339  1204091352  D42A0AECF86DE543E159EBCF1F440F55BD9CEF5F   \n",
       "3         1823176082  1204091352  E1A7C4AF8B9356CE5A15199E17707545DD7D76DB   \n",
       "4         1822450340  1204091352  D42A0AECF86DE543E159EBCF1F440F55BD9CEF5F   \n",
       "...              ...         ...                                       ...   \n",
       "18543496    21456926  1204091352                  2A3134313230303030303930   \n",
       "18543497    21456927  1204091352                  2A3134313230303030303930   \n",
       "18543498    21456941  1204091352                  2A3231313130303030343131   \n",
       "18543499    21456942  1204091352                  2A3231313130303030343131   \n",
       "18543500     9829482  1204091352                  2A3036303230303031333330   \n",
       "\n",
       "                      loan_date            return_date  \n",
       "0         2022-03-31 12:00:00.0  2022-04-18 12:00:00.0  \n",
       "1         2022-04-19 12:00:00.0  2022-04-21 12:00:00.0  \n",
       "2         2022-03-31 12:00:00.0  2022-04-18 12:00:00.0  \n",
       "3         2022-04-19 12:00:00.0  2022-04-22 12:00:00.0  \n",
       "4         2022-03-31 12:00:00.0  2022-04-18 12:00:00.0  \n",
       "...                         ...                    ...  \n",
       "18543496  2022-04-29 12:00:00.0                    NaN  \n",
       "18543497  2022-04-29 12:00:00.0                    NaN  \n",
       "18543498  2022-04-29 12:00:00.0                    NaN  \n",
       "18543499  2022-04-29 12:00:00.0                    NaN  \n",
       "18543500  2013-12-01 12:00:00.0  2022-04-21 12:00:00.0  \n",
       "\n",
       "[18543501 rows x 5 columns]"
      ]
     },
     "execution_count": 71,
     "metadata": {},
     "output_type": "execute_result"
    }
   ],
   "source": [
    "df[df['book_key'] == 1204091352]"
   ]
  }
 ],
 "metadata": {
  "kernelspec": {
   "display_name": "Python [conda env:ML_Project_5th] *",
   "language": "python",
   "name": "conda-env-ML_Project_5th-py"
  },
  "language_info": {
   "codemirror_mode": {
    "name": "ipython",
    "version": 3
   },
   "file_extension": ".py",
   "mimetype": "text/x-python",
   "name": "python",
   "nbconvert_exporter": "python",
   "pygments_lexer": "ipython3",
   "version": "3.8.0"
  }
 },
 "nbformat": 4,
 "nbformat_minor": 5
}
